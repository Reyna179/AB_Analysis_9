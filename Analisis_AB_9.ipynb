{
 "cells": [
  {
   "cell_type": "markdown",
   "metadata": {},
   "source": [
    "# Analisis de Prueba A/B \n",
    "Curso de DA - Sprint 9"
   ]
  },
  {
   "cell_type": "markdown",
   "metadata": {},
   "source": [
    "## INTRODUCCION\n",
    "\n",
    "### Objetivo\n",
    "\n",
    "Priorizar hipótesis formuladas, lanzar un test A/B y analizar los resultados con el objetivo de  aumentar los ingresos. \n",
    "\n",
    "\n",
    "\n",
    "### Descripcion de los datos\n",
    "\n",
    "<b> hypotheses_us.csv: </b> \n",
    "\n",
    "    Hypotheses: breves descripciones de las hipótesis \n",
    "    Reach: alcance del usuario, en una escala del uno a diez\n",
    "    Impact: impacto en los usuarios, en una escala del uno al diez\n",
    "    Confidence: confianza en la hipótesis, en una escala del uno al diez\n",
    "    Effort: los recursos necesarios para probar una hipótesis, en una escala del uno al diez. \n",
    "  \n",
    "\n",
    " <b> orders_us.csv: </b> \n",
    "\n",
    "    transactionId: identificador de pedido\n",
    "    visitorId: identificador del usuario que realizó el pedido\n",
    "    date: fecha del pedido\n",
    "    revenue: ingresos del pedido\n",
    "    group: el grupo del test A/B al que pertenece el usuario\n",
    "\n",
    "<b> visits_us.csv: </b>\n",
    "\n",
    "    date: la fecha\n",
    "    group: grupo del test A/B\n",
    "    visits: el número de visitas en la fecha especificada para el grupo de test A/B especificado"
   ]
  },
  {
   "cell_type": "markdown",
   "metadata": {},
   "source": [
    "## PREPARACION DE LOS DATOS"
   ]
  },
  {
   "cell_type": "markdown",
   "metadata": {},
   "source": [
    "### Importacion de librerias"
   ]
  },
  {
   "cell_type": "code",
   "execution_count": 1,
   "metadata": {
    "scrolled": false
   },
   "outputs": [],
   "source": [
    "import pandas as pd\n",
    "import matplotlib.pyplot as plt\n",
    "import numpy as np\n",
    "import scipy.stats as stats"
   ]
  },
  {
   "cell_type": "markdown",
   "metadata": {},
   "source": [
    "### Importacion de datasets"
   ]
  },
  {
   "cell_type": "code",
   "execution_count": 2,
   "metadata": {
    "scrolled": false
   },
   "outputs": [],
   "source": [
    "hipotesis = pd.read_csv('/datasets/hypotheses_us.csv', sep= ';')#, header= 0, names = ['hypothesis', 'reach','impact','confidence','effort'])\n",
    "\n",
    "ordenes = pd.read_csv('/datasets/orders_us.csv')\n",
    "\n",
    "visitas = pd.read_csv('/datasets/visits_us.csv')"
   ]
  },
  {
   "cell_type": "markdown",
   "metadata": {},
   "source": [
    "### Hypotheses"
   ]
  },
  {
   "cell_type": "code",
   "execution_count": 3,
   "metadata": {
    "scrolled": false
   },
   "outputs": [
    {
     "name": "stdout",
     "output_type": "stream",
     "text": [
      "                                          hypothesis  reach  impact  \\\n",
      "0  Add two new channels for attracting traffic. T...      3      10   \n",
      "1  Launch your own delivery service. This will sh...      2       5   \n",
      "2  Add product recommendation blocks to the store...      8       3   \n",
      "3  Change the category structure. This will incre...      8       3   \n",
      "4  Change the background color on the main page. ...      3       1   \n",
      "5  Add a customer review page. This will increase...      3       2   \n",
      "6  Show banners with current offers and sales on ...      5       3   \n",
      "7  Add a subscription form to all the main pages....     10       7   \n",
      "8  Launch a promotion that gives users discounts ...      1       9   \n",
      "\n",
      "   confidence  effort  \n",
      "0           8       6  \n",
      "1           4      10  \n",
      "2           7       3  \n",
      "3           3       8  \n",
      "4           1       1  \n",
      "5           2       3  \n",
      "6           8       3  \n",
      "7           8       5  \n",
      "8           9       5  \n",
      "<class 'pandas.core.frame.DataFrame'>\n",
      "RangeIndex: 9 entries, 0 to 8\n",
      "Data columns (total 5 columns):\n",
      " #   Column      Non-Null Count  Dtype \n",
      "---  ------      --------------  ----- \n",
      " 0   hypothesis  9 non-null      object\n",
      " 1   reach       9 non-null      int64 \n",
      " 2   impact      9 non-null      int64 \n",
      " 3   confidence  9 non-null      int64 \n",
      " 4   effort      9 non-null      int64 \n",
      "dtypes: int64(4), object(1)\n",
      "memory usage: 488.0+ bytes\n"
     ]
    }
   ],
   "source": [
    "hipotesis.columns = hipotesis.columns.str.lower()\n",
    "\n",
    "print(hipotesis.head(9))\n",
    "hipotesis.info()"
   ]
  },
  {
   "cell_type": "markdown",
   "metadata": {},
   "source": [
    "Revisando el primer dataframe observamos que es un listado de ideas a probar para aumentar las ventas, se ordenaron los datos y se cambiaron las columnas a minusculas como pretrabajo."
   ]
  },
  {
   "cell_type": "markdown",
   "metadata": {},
   "source": [
    "### Orders"
   ]
  },
  {
   "cell_type": "code",
   "execution_count": 4,
   "metadata": {
    "scrolled": false
   },
   "outputs": [],
   "source": [
    "#print(ordenes.head())#Exploracion inicial de datos\n",
    "#print()\n",
    "#ordenes.info()"
   ]
  },
  {
   "cell_type": "code",
   "execution_count": 5,
   "metadata": {
    "scrolled": false
   },
   "outputs": [],
   "source": [
    "ordenes['date'] = pd.to_datetime(ordenes['date']) #Cambiar la columna de fecha a tipo datetime\n",
    "#ordenes['date'] = ordenes['date'].map(lambda x: dt.datetime.strptime(x,'%d/%m/%Y'))\n",
    "                                   "
   ]
  },
  {
   "cell_type": "code",
   "execution_count": 6,
   "metadata": {
    "scrolled": false
   },
   "outputs": [
    {
     "data": {
      "text/plain": [
       "0"
      ]
     },
     "execution_count": 6,
     "metadata": {},
     "output_type": "execute_result"
    }
   ],
   "source": [
    "ordenes.duplicated().sum()#Revisar si los datos presentan filas duplicadas"
   ]
  },
  {
   "cell_type": "code",
   "execution_count": 7,
   "metadata": {
    "scrolled": false
   },
   "outputs": [
    {
     "name": "stdout",
     "output_type": "stream",
     "text": [
      "(58,)\n"
     ]
    }
   ],
   "source": [
    "#Revisar si hay usuarios que estan en ambos grupos y hacer un df con sus Id's \n",
    "\n",
    "repetidos = ordenes.groupby('visitorId', as_index = False)['group'].nunique().sort_values(by= 'group',ascending=False) \n",
    "repetidos_1 = repetidos[repetidos['group']> 1]['visitorId']\n",
    "#print(repetidos_1)\n",
    "print(repetidos_1.shape)#Se habian encontrado 58 usuarios con grupos repetidos"
   ]
  },
  {
   "cell_type": "code",
   "execution_count": 8,
   "metadata": {
    "scrolled": false
   },
   "outputs": [],
   "source": [
    "#Se filtran las transacciones que contienen usuarios repetidos y son del grupo b para eliminarlos\n",
    "filtro_1 = ordenes.query(\"visitorId in @repetidos_1 and group == 'B'\") \n",
    "#print(filtro_1)\n",
    "\n",
    "ordenes = ordenes.drop(filtro_1.index)"
   ]
  },
  {
   "cell_type": "code",
   "execution_count": 9,
   "metadata": {
    "scrolled": true
   },
   "outputs": [
    {
     "name": "stdout",
     "output_type": "stream",
     "text": [
      "group\n",
      "A    503\n",
      "B    528\n",
      "Name: visitorId, dtype: int64\n"
     ]
    }
   ],
   "source": [
    "print(ordenes.groupby('group')['visitorId'].nunique())# Asi quedarian al final los grupos a y b"
   ]
  },
  {
   "cell_type": "code",
   "execution_count": 10,
   "metadata": {
    "scrolled": false
   },
   "outputs": [
    {
     "name": "stdout",
     "output_type": "stream",
     "text": [
      "   transactionId   visitorId       date  revenue group\n",
      "0     3667963787  3312258926 2019-08-15     30.4     B\n",
      "1     2804400009  3642806036 2019-08-15     15.2     B\n",
      "2     2961555356  4069496402 2019-08-15     10.2     A\n",
      "3     3797467345  1196621759 2019-08-15    155.1     B\n",
      "4     2282983706  2322279887 2019-08-15     40.5     B\n",
      "\n",
      "<class 'pandas.core.frame.DataFrame'>\n",
      "Int64Index: 1105 entries, 0 to 1196\n",
      "Data columns (total 5 columns):\n",
      " #   Column         Non-Null Count  Dtype         \n",
      "---  ------         --------------  -----         \n",
      " 0   transactionId  1105 non-null   int64         \n",
      " 1   visitorId      1105 non-null   int64         \n",
      " 2   date           1105 non-null   datetime64[ns]\n",
      " 3   revenue        1105 non-null   float64       \n",
      " 4   group          1105 non-null   object        \n",
      "dtypes: datetime64[ns](1), float64(1), int64(2), object(1)\n",
      "memory usage: 51.8+ KB\n"
     ]
    }
   ],
   "source": [
    "print(ordenes.head())\n",
    "print()\n",
    "ordenes.info()"
   ]
  },
  {
   "cell_type": "markdown",
   "metadata": {},
   "source": [
    "Se hizo una exploracion inicial de los datos del df de ordenes, no habia datos duplicados, se cambiaron los tipos de datos de dos columnas para optimizar el uso de memoria, Tambien se encontro que la prueba consta de dos categorias (A y B) y el tamaño de estas habia un total de 586 usuarios en el grupo B y 503 en el grupo A, al revisar los datos mas a detalle me percate de que habia usuarios con registros en los dos grupos por lo que opte en borrar todas las filas de transacciones registradas del grupo B y usuarios con registros en ambos grupos, para que esos usuarios se pasaran completamente al grupo A que es el que menos registros tenia en comparacion con el otro.\n"
   ]
  },
  {
   "cell_type": "markdown",
   "metadata": {},
   "source": [
    "### Visits"
   ]
  },
  {
   "cell_type": "code",
   "execution_count": 11,
   "metadata": {
    "scrolled": false
   },
   "outputs": [],
   "source": [
    "#visitas.info()\n",
    "#print()\n",
    "#print(visitas.head())"
   ]
  },
  {
   "cell_type": "code",
   "execution_count": 12,
   "metadata": {
    "scrolled": false
   },
   "outputs": [],
   "source": [
    "visitas['date'] = pd.to_datetime(visitas['date']) #Cambiar la columna de fecha a tipo datetime\n"
   ]
  },
  {
   "cell_type": "code",
   "execution_count": 13,
   "metadata": {
    "scrolled": false
   },
   "outputs": [
    {
     "data": {
      "text/plain": [
       "0"
      ]
     },
     "execution_count": 13,
     "metadata": {},
     "output_type": "execute_result"
    }
   ],
   "source": [
    "ordenes.duplicated().sum()#Revisar si los datos presentan filas duplicadas"
   ]
  },
  {
   "cell_type": "code",
   "execution_count": 14,
   "metadata": {
    "scrolled": false
   },
   "outputs": [
    {
     "name": "stdout",
     "output_type": "stream",
     "text": [
      "<class 'pandas.core.frame.DataFrame'>\n",
      "RangeIndex: 62 entries, 0 to 61\n",
      "Data columns (total 3 columns):\n",
      " #   Column  Non-Null Count  Dtype         \n",
      "---  ------  --------------  -----         \n",
      " 0   date    62 non-null     datetime64[ns]\n",
      " 1   group   62 non-null     object        \n",
      " 2   visits  62 non-null     int64         \n",
      "dtypes: datetime64[ns](1), int64(1), object(1)\n",
      "memory usage: 1.6+ KB\n",
      "\n",
      "        date group  visits\n",
      "0 2019-08-01     A     719\n",
      "1 2019-08-02     A     619\n",
      "2 2019-08-03     A     507\n",
      "3 2019-08-04     A     717\n",
      "4 2019-08-05     A     756\n"
     ]
    }
   ],
   "source": [
    "visitas.info()\n",
    "print()\n",
    "print(visitas.head())"
   ]
  },
  {
   "cell_type": "markdown",
   "metadata": {},
   "source": [
    "Se hizo una revision inicial de los datos, se cambio los tipos de datos de la columna date y group a datetime y categorias para optimizar espacio y se reviso que no hubiera filas duplicadas."
   ]
  },
  {
   "cell_type": "markdown",
   "metadata": {},
   "source": [
    "## PRIORIZAR HIPOTESIS"
   ]
  },
  {
   "cell_type": "code",
   "execution_count": 15,
   "metadata": {
    "scrolled": false
   },
   "outputs": [
    {
     "name": "stdout",
     "output_type": "stream",
     "text": [
      "Index(['hypothesis', 'reach', 'impact', 'confidence', 'effort'], dtype='object')\n"
     ]
    }
   ],
   "source": [
    "print(hipotesis.columns)"
   ]
  },
  {
   "cell_type": "markdown",
   "metadata": {},
   "source": [
    "### ICE"
   ]
  },
  {
   "cell_type": "code",
   "execution_count": 16,
   "metadata": {
    "scrolled": false
   },
   "outputs": [
    {
     "name": "stdout",
     "output_type": "stream",
     "text": [
      "                                          hypothesis  reach  impact  \\\n",
      "8  Launch a promotion that gives users discounts ...      1       9   \n",
      "0  Add two new channels for attracting traffic. T...      3      10   \n",
      "7  Add a subscription form to all the main pages....     10       7   \n",
      "6  Show banners with current offers and sales on ...      5       3   \n",
      "2  Add product recommendation blocks to the store...      8       3   \n",
      "1  Launch your own delivery service. This will sh...      2       5   \n",
      "5  Add a customer review page. This will increase...      3       2   \n",
      "3  Change the category structure. This will incre...      8       3   \n",
      "4  Change the background color on the main page. ...      3       1   \n",
      "\n",
      "   confidence  effort    ICE  \n",
      "8           9       5  16.20  \n",
      "0           8       6  13.33  \n",
      "7           8       5  11.20  \n",
      "6           8       3   8.00  \n",
      "2           7       3   7.00  \n",
      "1           4      10   2.00  \n",
      "5           2       3   1.33  \n",
      "3           3       8   1.12  \n",
      "4           1       1   1.00  \n"
     ]
    }
   ],
   "source": [
    "hipotesis['ICE'] = (hipotesis['impact'] * hipotesis['confidence'] / hipotesis['effort']).round(2)\n",
    "print(hipotesis.sort_values('ICE', ascending = False))"
   ]
  },
  {
   "cell_type": "markdown",
   "metadata": {},
   "source": [
    "### RICE"
   ]
  },
  {
   "cell_type": "code",
   "execution_count": 17,
   "metadata": {
    "scrolled": false
   },
   "outputs": [
    {
     "name": "stdout",
     "output_type": "stream",
     "text": [
      "                                          hypothesis  reach  impact  \\\n",
      "7  Add a subscription form to all the main pages....     10       7   \n",
      "2  Add product recommendation blocks to the store...      8       3   \n",
      "0  Add two new channels for attracting traffic. T...      3      10   \n",
      "6  Show banners with current offers and sales on ...      5       3   \n",
      "8  Launch a promotion that gives users discounts ...      1       9   \n",
      "3  Change the category structure. This will incre...      8       3   \n",
      "1  Launch your own delivery service. This will sh...      2       5   \n",
      "5  Add a customer review page. This will increase...      3       2   \n",
      "4  Change the background color on the main page. ...      3       1   \n",
      "\n",
      "   confidence  effort    ICE   RICE  \n",
      "7           8       5  11.20  112.0  \n",
      "2           7       3   7.00   56.0  \n",
      "0           8       6  13.33   40.0  \n",
      "6           8       3   8.00   40.0  \n",
      "8           9       5  16.20   16.2  \n",
      "3           3       8   1.12    9.0  \n",
      "1           4      10   2.00    4.0  \n",
      "5           2       3   1.33    4.0  \n",
      "4           1       1   1.00    3.0  \n"
     ]
    }
   ],
   "source": [
    "hipotesis['RICE'] = (hipotesis['impact'] * hipotesis['confidence'] * hipotesis['reach'] / hipotesis['effort']).round(2)\n",
    "print(hipotesis.sort_values(by= 'RICE', ascending = False))"
   ]
  },
  {
   "cell_type": "markdown",
   "metadata": {},
   "source": [
    "Aplicando los metodos ICE y RICE observamos que ambos conciden en que las hipotesis 3,1,5 y 4 son las menos prioritarias, sin embargo observamos un cambio de posicion en las primeras 5 donde la hipotesis 8 que era el primer lugar en ICE paso a ser la quinta cuando tomamos en cuenta el alcance que tendra esta estrategia, ya que al parecer es poco e hipotesis como la 7 y la 2 que eran la tercera y la 5ta en ICE pasaron a los primeros lugares en RICE ya que el alcance que tienen es mayor  por lo que impactaran a un mayor grupo de la poblacion total lo que hace que los beneficios de estas estrategias sean mas generalizados aunque impacten en menor escala de forma individual."
   ]
  },
  {
   "cell_type": "markdown",
   "metadata": {},
   "source": [
    "## ANALISIS DE TEST A/B"
   ]
  },
  {
   "cell_type": "markdown",
   "metadata": {},
   "source": [
    "### Ingreso acumulado por grupo"
   ]
  },
  {
   "cell_type": "code",
   "execution_count": 18,
   "metadata": {},
   "outputs": [
    {
     "name": "stdout",
     "output_type": "stream",
     "text": [
      "           date group\n",
      "0    2019-08-15     B\n",
      "2    2019-08-15     A\n",
      "45   2019-08-16     A\n",
      "47   2019-08-16     B\n",
      "55   2019-08-01     A\n",
      "...         ...   ...\n",
      "1068 2019-08-12     A\n",
      "1114 2019-08-13     B\n",
      "1116 2019-08-13     A\n",
      "1149 2019-08-14     B\n",
      "1150 2019-08-14     A\n",
      "\n",
      "[62 rows x 2 columns]\n"
     ]
    }
   ],
   "source": [
    "date_group= ordenes[['date','group']].drop_duplicates()\n",
    "print(date_group)"
   ]
  },
  {
   "cell_type": "code",
   "execution_count": null,
   "metadata": {},
   "outputs": [],
   "source": [
    "#crear variable orders_agg con los datos de transacciones acumulados por dia\n",
    "orders_agg = date_group.apply(lambda x: ordenes[np.logical_and(ordenes['date'] <= x['date'], ordenes['group'] == x['group'])].agg({'date':'max', 'group':'max', 'transactionId':'nunique', 'visitorId':'nunique','revenue':'sum'}), axis=1).sort_values(by=['date','group'])"
   ]
  },
  {
   "cell_type": "code",
   "execution_count": 20,
   "metadata": {},
   "outputs": [],
   "source": [
    "#crear variable visitor_agg con los datos de visitas acumuladas por dia\n",
    "visitor_agg = date_group.apply(lambda x: visitas[np.logical_and(visitas['date'] <= x['date'], visitas['group'] == x['group'])].agg({'date':'max', 'group':'max','visits':'sum'}), axis=1).sort_values(by=['date','group'])"
   ]
  },
  {
   "cell_type": "code",
   "execution_count": 21,
   "metadata": {},
   "outputs": [
    {
     "data": {
      "text/plain": [
       "Index(['date', 'group', 'orders', 'buyers', 'revenue', 'visits'], dtype='object')"
      ]
     },
     "execution_count": 21,
     "metadata": {},
     "output_type": "execute_result"
    }
   ],
   "source": [
    "#Unir ambas tablas de valores acumulados para consolidar la informacion\n",
    "data_agg= orders_agg.merge(visitor_agg, on=['date','group'])\n",
    "data_agg.columns = ['date','group','orders','buyers','revenue','visits']\n",
    "data_agg.columns"
   ]
  },
  {
   "cell_type": "code",
   "execution_count": 22,
   "metadata": {},
   "outputs": [],
   "source": [
    "#Extraer un slice con la informacion de los ingresos acumulados por grupo\n",
    "revenueA_acum = data_agg[data_agg['group']== 'A'][['date','orders','revenue']]\n",
    "revenueB_acum = data_agg[data_agg['group']== 'B'][['date','orders','revenue']]"
   ]
  },
  {
   "cell_type": "code",
   "execution_count": 23,
   "metadata": {},
   "outputs": [
    {
     "data": {
      "text/plain": [
       "<matplotlib.legend.Legend at 0x7fb3f5cfc820>"
      ]
     },
     "execution_count": 23,
     "metadata": {},
     "output_type": "execute_result"
    },
    {
     "data": {
      "image/png": "[encoded data removed]",
      "text/plain": [
       "<Figure size 640x480 with 1 Axes>"
      ]
     },
     "metadata": {},
     "output_type": "display_data"
    }
   ],
   "source": [
    "#Graficar los slices que creamos para comparar los ingresos acumulados por grupos\n",
    "plt.plot(revenueA_acum['date'], revenueA_acum['revenue'], label= 'A')\n",
    "plt.plot(revenueB_acum['date'], revenueB_acum['revenue'], label= 'B')\n",
    "plt.title('Grafico de ingresos acumulados por grupo')\n",
    "plt.legend()"
   ]
  },
  {
   "cell_type": "markdown",
   "metadata": {},
   "source": [
    "Podemos observar en la grafica que hasta cierto punto las graficas estaban con un crecimiento muy similar y de repente la grafica del grupo B presento un crecimiento muy grande en una sola fecha y luego continuo con su crecimiento habitual diario. Este crecimiento puede deberse a una compra muy grande, lo identificaremos cuando hagamos el analisis de datos atipicos."
   ]
  },
  {
   "cell_type": "markdown",
   "metadata": {},
   "source": [
    "### Tamaño de pedido promedio acumulado por grupo"
   ]
  },
  {
   "cell_type": "code",
   "execution_count": 24,
   "metadata": {},
   "outputs": [
    {
     "data": {
      "text/plain": [
       "<matplotlib.legend.Legend at 0x7fb3f3bc1c40>"
      ]
     },
     "execution_count": 24,
     "metadata": {},
     "output_type": "execute_result"
    },
    {
     "data": {
      "image/png": "[encoded data removed]",
      "text/plain": [
       "<Figure size 640x480 with 1 Axes>"
      ]
     },
     "metadata": {},
     "output_type": "display_data"
    }
   ],
   "source": [
    "#Imprimir un grafico para conparar el tamaño medio de los pedidos en los dos grupos acumulado\n",
    "plt.plot(revenueA_acum['date'], revenueA_acum['revenue'] / revenueA_acum['orders'], label='A')\n",
    "\n",
    "plt.plot(revenueB_acum['date'], revenueB_acum['revenue'] / revenueB_acum['orders'], label='B')\n",
    "plt.title('Grafico de pedido promedio acumulado por grupo')\n",
    "plt.legend()"
   ]
  },
  {
   "cell_type": "markdown",
   "metadata": {},
   "source": [
    "En esta grafica tambien podemos observar el pico en el mismo sitio del grupo B que en la grafica anterior y luego una caida mantenisda en el tamaño promedio de las compras, por lo que confirmamos que se debe a uno o mas condiciones anormales en ese dia."
   ]
  },
  {
   "cell_type": "markdown",
   "metadata": {},
   "source": [
    "### Diferencia relativa en el tamaño de pedido promedio acumulado"
   ]
  },
  {
   "cell_type": "code",
   "execution_count": 25,
   "metadata": {},
   "outputs": [],
   "source": [
    "#Se calcula y grafica la diferencia relativa acumulada en el tamaño promedio de la compra\n",
    "diff_rel = revenueA_acum.merge(revenueB_acum, on='date', suffixes=['A','B'])\n",
    "\n",
    "ord_promA=diff_rel['revenueB'] / diff_rel['ordersB']\n",
    "\n",
    "ord_promB=diff_rel['revenueA'] / diff_rel['ordersA']"
   ]
  },
  {
   "cell_type": "code",
   "execution_count": 26,
   "metadata": {},
   "outputs": [
    {
     "data": {
      "text/plain": [
       "<matplotlib.lines.Line2D at 0x7fb3f3bc1d90>"
      ]
     },
     "execution_count": 26,
     "metadata": {},
     "output_type": "execute_result"
    },
    {
     "data": {
      "image/png": "[encoded data removed]",
      "text/plain": [
       "<Figure size 640x480 with 1 Axes>"
      ]
     },
     "metadata": {},
     "output_type": "display_data"
    }
   ],
   "source": [
    "plt.plot(diff_rel['date'],(ord_promB / ord_promA) -1 )\n",
    "plt.title('Diferencia relativa del grupo B respecto a A - Tamaño de pedido')\n",
    "plt.axhline(y=0, color='black', linestyle='--')"
   ]
  },
  {
   "cell_type": "markdown",
   "metadata": {},
   "source": [
    "En esta grafica observamos el comportamiento del tamaño promedio de las compras del grupo B respecto al grupo A, podemos ver que el grafico comienza con una caida mantenida hasta llegar a -20%, se recupera hasta alcanzar 20% de ganancia y vuelve a caer por debajo del -20% y comienza un crecimiento lento desde ahi."
   ]
  },
  {
   "cell_type": "markdown",
   "metadata": {},
   "source": [
    "### Tasa de conversión de cada grupo"
   ]
  },
  {
   "cell_type": "code",
   "execution_count": 27,
   "metadata": {},
   "outputs": [],
   "source": [
    "#Se calcula la conversion entre las visitas a la pagina y las compras realizadas\n",
    "data_agg['conversion'] = data_agg['orders'] / data_agg['visits']\n",
    "\n",
    "group_A = data_agg[data_agg['group']== 'A']\n",
    "\n",
    "group_B = data_agg[data_agg['group']== 'B']"
   ]
  },
  {
   "cell_type": "code",
   "execution_count": 28,
   "metadata": {},
   "outputs": [
    {
     "data": {
      "text/plain": [
       "<matplotlib.legend.Legend at 0x7fb3f3acfc70>"
      ]
     },
     "execution_count": 28,
     "metadata": {},
     "output_type": "execute_result"
    },
    {
     "data": {
      "image/png": "[encoded data removed]",
      "text/plain": [
       "<Figure size 640x480 with 1 Axes>"
      ]
     },
     "metadata": {},
     "output_type": "display_data"
    }
   ],
   "source": [
    "plt.plot(group_A['date'], group_A['conversion'], label= 'A')\n",
    "\n",
    "plt.plot(group_B['date'], group_B['conversion'], label= 'B')\n",
    "plt.title('Grafico de tasa de conversion por grupo')\n",
    "plt.legend()"
   ]
  },
  {
   "cell_type": "markdown",
   "metadata": {},
   "source": [
    "Observamos en la grafica que la conversion del grupo A comenzo alta, llegando casi al 0.4 de conversion pero despues cayo hasta el .3 y se mantiene oscilando entre el .3 y .32 ; el \n",
    "grupo B por su parte comenzo en .30, tuvo una caida en los primeros dias y despues crecio hasta rondar el mismo rango que el grupo A."
   ]
  },
  {
   "cell_type": "code",
   "execution_count": 29,
   "metadata": {},
   "outputs": [
    {
     "data": {
      "text/plain": [
       "<matplotlib.lines.Line2D at 0x7fb3f3af87c0>"
      ]
     },
     "execution_count": 29,
     "metadata": {},
     "output_type": "execute_result"
    },
    {
     "data": {
      "image/png": "[encoded data removed]",
      "text/plain": [
       "<Figure size 640x480 with 1 Axes>"
      ]
     },
     "metadata": {},
     "output_type": "display_data"
    }
   ],
   "source": [
    "diff_rela = group_A.merge(group_B, on=['date'], suffixes=['A','B'])\n",
    "diff_rela.columns\n",
    "plt.plot(diff_rela['date'] , diff_rela['conversionB'] / diff_rela['conversionA']-1, label='Diferencia relativa')\n",
    "plt.legend()\n",
    "plt.title('Diferencia relativa del grupo B respecto a A - Conversion')\n",
    "plt.axhline(y=0, color='black', linestyle='--')\n",
    "plt.axhline(y= -0.025, color='gray', linestyle='--')"
   ]
  },
  {
   "cell_type": "markdown",
   "metadata": {},
   "source": [
    "En esta ultima grafica observamos el comportamiento de la conversion del grupo B respecto al grupo A, observamos que empezo muy rezagado, despues mejoro y comenzo ganar respecto al grupo B, luego volvio a caer y actualmente se encuentra en 0.025 y con tendencia creciente."
   ]
  },
  {
   "cell_type": "markdown",
   "metadata": {},
   "source": [
    "### Gráfico de dispersión del número de pedidos por usuario."
   ]
  },
  {
   "cell_type": "code",
   "execution_count": 30,
   "metadata": {},
   "outputs": [
    {
     "name": "stdout",
     "output_type": "stream",
     "text": [
      "       visitorId  orders\n",
      "1023  4256040402       7\n",
      "487   2038680547       5\n",
      "591   2458001652       5\n",
      "44     199603092       4\n",
      "569   2378935119       4\n",
      "55     237748145       4\n",
      "504   2108163459       3\n",
      "667   2742574263       3\n",
      "959   3967698036       3\n",
      "726   2988190573       3\n"
     ]
    }
   ],
   "source": [
    "#Crear un df con solamente los datos de usuarios y ordenes para analizar los pedidos por usuario\n",
    "orders_per_usr = (\n",
    "    ordenes.drop(['group','revenue','date'], axis=1)\n",
    "    .groupby('visitorId', as_index = False)\n",
    "    .agg({'transactionId': pd.Series.nunique})\n",
    ")\n",
    "\n",
    "orders_per_usr.columns = ['visitorId','orders']\n",
    "print(orders_per_usr.sort_values(by='orders', ascending = False).head(10))"
   ]
  },
  {
   "cell_type": "code",
   "execution_count": 31,
   "metadata": {},
   "outputs": [
    {
     "data": {
      "text/plain": [
       "(array([983.,  33.,   0.,   9.,   0.,   3.,   2.,   0.,   0.,   1.]),\n",
       " array([1. , 1.6, 2.2, 2.8, 3.4, 4. , 4.6, 5.2, 5.8, 6.4, 7. ]),\n",
       " <BarContainer object of 10 artists>)"
      ]
     },
     "execution_count": 31,
     "metadata": {},
     "output_type": "execute_result"
    },
    {
     "data": {
      "image/png": "[encoded data removed]",
      "text/plain": [
       "<Figure size 640x480 with 1 Axes>"
      ]
     },
     "metadata": {},
     "output_type": "display_data"
    }
   ],
   "source": [
    "plt.hist(orders_per_usr['orders'])"
   ]
  },
  {
   "cell_type": "code",
   "execution_count": 32,
   "metadata": {},
   "outputs": [
    {
     "data": {
      "text/plain": [
       "<matplotlib.collections.PathCollection at 0x7fb3f399eca0>"
      ]
     },
     "execution_count": 32,
     "metadata": {},
     "output_type": "execute_result"
    },
    {
     "data": {
      "image/png": "[encoded data removed]",
      "text/plain": [
       "<Figure size 640x480 with 1 Axes>"
      ]
     },
     "metadata": {},
     "output_type": "display_data"
    }
   ],
   "source": [
    "x_values = pd.Series(range(0,len(orders_per_usr)))\n",
    "\n",
    "plt.scatter(x_values, orders_per_usr['orders'])"
   ]
  },
  {
   "cell_type": "markdown",
   "metadata": {},
   "source": [
    "### Percentiles 95 y 99 para el número de pedidos por usuario"
   ]
  },
  {
   "cell_type": "code",
   "execution_count": 33,
   "metadata": {},
   "outputs": [
    {
     "name": "stdout",
     "output_type": "stream",
     "text": [
      "[1. 1. 3.]\n"
     ]
    }
   ],
   "source": [
    "print(np.percentile(orders_per_usr['orders'], [90 , 95, 99]))"
   ]
  },
  {
   "cell_type": "markdown",
   "metadata": {},
   "source": [
    "Podemos observar en el df 'orders_per_usr' y en las graficas que en su mayoria los pedidos por usuario es de 1, el maximo de pedidos por usuario es 7 pedidos de un usuario y 5 pedidos de 2 usuarios, habra que evaluar si estos usuarios afectan la confiabilidad del analisis.\n",
    "\n",
    "Ademas al calcular los percentiles 95 y 99 nos damos cuenta de que el 95% de los pedidos siguen siendo de 1 por usuario y solamente cambia a 3 en el 99%. Por lo tanto se consideraran pedidos anomalos los que sean mayores que 3 por usuario."
   ]
  },
  {
   "cell_type": "markdown",
   "metadata": {},
   "source": [
    "### Dispersión de los precios de los pedidos"
   ]
  },
  {
   "cell_type": "code",
   "execution_count": 34,
   "metadata": {},
   "outputs": [
    {
     "name": "stdout",
     "output_type": "stream",
     "text": [
      "425     19920.4\n",
      "1196     3120.1\n",
      "858      1450.2\n",
      "1136     1425.8\n",
      "744      1335.6\n",
      "662      1220.2\n",
      "743      1050.0\n",
      "1103     1025.8\n",
      "1099     1015.9\n",
      "949       930.0\n",
      "Name: revenue, dtype: float64\n"
     ]
    }
   ],
   "source": [
    "print(ordenes['revenue'].sort_values(ascending=False).head(10))"
   ]
  },
  {
   "cell_type": "code",
   "execution_count": 35,
   "metadata": {},
   "outputs": [
    {
     "data": {
      "text/plain": [
       "(array([863., 146.,  48.,  20.,   9.,   7.,   5.,   1.,   2.,   2.]),\n",
       " array([   0.,  150.,  300.,  450.,  600.,  750.,  900., 1050., 1200.,\n",
       "        1350., 1500.]),\n",
       " <BarContainer object of 10 artists>)"
      ]
     },
     "execution_count": 35,
     "metadata": {},
     "output_type": "execute_result"
    },
    {
     "data": {
      "image/png": "[encoded data removed]",
      "text/plain": [
       "<Figure size 640x480 with 1 Axes>"
      ]
     },
     "metadata": {},
     "output_type": "display_data"
    }
   ],
   "source": [
    "#Imprimir histograma para ver en que rango de encuentra la ganancia por compra\n",
    "plt.hist(ordenes['revenue'], range =(0 , 1500))"
   ]
  },
  {
   "cell_type": "code",
   "execution_count": 36,
   "metadata": {},
   "outputs": [
    {
     "data": {
      "text/plain": [
       "<matplotlib.collections.PathCollection at 0x7fb3f387eb20>"
      ]
     },
     "execution_count": 36,
     "metadata": {},
     "output_type": "execute_result"
    },
    {
     "data": {
      "image/png": "[encoded data removed]",
      "text/plain": [
       "<Figure size 640x480 with 1 Axes>"
      ]
     },
     "metadata": {},
     "output_type": "display_data"
    }
   ],
   "source": [
    "x_val = pd.Series(range(0, len(ordenes)))\n",
    "\n",
    "plt.scatter(x_val, ordenes['revenue'])"
   ]
  },
  {
   "cell_type": "markdown",
   "metadata": {},
   "source": [
    "### Percentiles 95 y 99 de los precios de los pedidos"
   ]
  },
  {
   "cell_type": "code",
   "execution_count": 37,
   "metadata": {},
   "outputs": [
    {
     "name": "stdout",
     "output_type": "stream",
     "text": [
      "[280.8   425.56  897.884]\n"
     ]
    }
   ],
   "source": [
    "print(np.percentile(ordenes['revenue'],[90,95,99]))"
   ]
  },
  {
   "cell_type": "markdown",
   "metadata": {},
   "source": [
    "Podemos observar en el la colimna 'revenue' y en las graficas que en su mayoria los pedidos menos de 200,se encontro que el monto maximo de compra fue de u pedido de 19000+, algo totalmente alejado del promedio, por lo que este resultado es claramente una compra anormal.\n",
    "\n",
    "Ademas al calcular los percentiles 95 y 99 nos damos cuenta de que el 95% de los pedidos son de  400 y el 99 alcanzan un monto de poco menos de 900 por lo tanto se consideraran pedidos anomalos los que sean mayores que esta cantidad."
   ]
  },
  {
   "cell_type": "code",
   "execution_count": 38,
   "metadata": {},
   "outputs": [
    {
     "data": {
      "text/plain": [
       "Index(['date', 'group', 'visits'], dtype='object')"
      ]
     },
     "execution_count": 38,
     "metadata": {},
     "output_type": "execute_result"
    }
   ],
   "source": [
    "ordenes.columns\n",
    "visitas.columns"
   ]
  },
  {
   "cell_type": "markdown",
   "metadata": {},
   "source": [
    "### Significancia estadística de la diferencia en la conversión entre los grupos (Datos en bruto)"
   ]
  },
  {
   "cell_type": "code",
   "execution_count": 39,
   "metadata": {},
   "outputs": [],
   "source": [
    "order_per_usrA = ordenes[ordenes['group']=='A'].groupby('visitorId', as_index=False).agg({'transactionId': pd.Series.nunique})\n",
    "order_per_usrA.columns=['visitorId','orders']\n",
    "\n",
    "order_per_usrB = ordenes[ordenes['group']=='B'].groupby('visitorId', as_index=False).agg({'transactionId': pd.Series.nunique})\n",
    "order_per_usrB.columns=['visitorId','orders']\n",
    "\n",
    "sampleA= pd.concat([\n",
    "    order_per_usrA['orders'], \n",
    "    pd.Series(0,index= np.arange(\n",
    "        visitas[visitas['group']=='A']['visits'].sum() - len(order_per_usrA['orders'])), name='orders')], axis=0)\n",
    "\n",
    "sampleB= pd.concat([\n",
    "    order_per_usrB['orders'] , \n",
    "    pd.Series(0,index= np.arange(\n",
    "        visitas[visitas['group']=='B']['visits'].sum() - len(order_per_usrB['orders'])), name='orders')], axis=0)"
   ]
  },
  {
   "cell_type": "code",
   "execution_count": 40,
   "metadata": {},
   "outputs": [
    {
     "name": "stdout",
     "output_type": "stream",
     "text": [
      "Valor P: 0.534\n",
      "Diferencia relativa: -0.026\n"
     ]
    }
   ],
   "source": [
    "print('Valor P:','{0:.3f}'.format(stats.mannwhitneyu(sampleA , sampleB)[1]))\n",
    "\n",
    "print('Diferencia relativa:','{0:.3f}'.format(sampleB.mean() / sampleA.mean() -1))"
   ]
  },
  {
   "cell_type": "markdown",
   "metadata": {},
   "source": [
    "Observamos en el resultado anterior que el valor p es mayor que nuestro valor alpha de 0.05, por lo que no hay evidencia de un cambio significativo en ambos grupos en cuando a la conversion.\n",
    "Observamos en la segunda fila que la perdida relativa del grupo B es del 2%."
   ]
  },
  {
   "cell_type": "markdown",
   "metadata": {},
   "source": [
    "### Significancia estadística de la diferencia en el tamaño promedio de pedido (Datos en bruto)"
   ]
  },
  {
   "cell_type": "code",
   "execution_count": 41,
   "metadata": {},
   "outputs": [],
   "source": [
    "group_A = ordenes[ordenes['group']=='A']\n",
    "group_B = ordenes[ordenes['group']=='B']"
   ]
  },
  {
   "cell_type": "code",
   "execution_count": 42,
   "metadata": {},
   "outputs": [
    {
     "name": "stdout",
     "output_type": "stream",
     "text": [
      "Valor P: 0.888\n",
      "Diferencia relativa: 0.254\n"
     ]
    }
   ],
   "source": [
    "print('Valor P:','{0:.3f}'.format(stats.mannwhitneyu(group_A['revenue'], group_B['revenue'])[1]))\n",
    "\n",
    "print('Diferencia relativa:','{0:.3f}'.format(group_B['revenue'].mean() / group_A['revenue'].mean() -1))"
   ]
  },
  {
   "cell_type": "markdown",
   "metadata": {},
   "source": [
    "Observamos en el resultado anterior que el valor p es mayor que nuestro valor alpha de 0.05, por lo que no hay evidencia de un cambio significativo en ambos grupos en cuando al tamaño promedio del pedido.\n",
    "\n",
    "En la fila 2 se observa una ganancia relativa del 25% en el tamaño promedio de la compra del grupo B, esto puede deberse al pedido anormal que detectamos anteriormente."
   ]
  },
  {
   "cell_type": "markdown",
   "metadata": {},
   "source": [
    "### Significancia estadística de la diferencia en la conversión entre los grupos (Datos filtrados)"
   ]
  },
  {
   "cell_type": "code",
   "execution_count": 43,
   "metadata": {},
   "outputs": [],
   "source": [
    "#Separar y enlistar los usuarios que tienen un comportamiento anormal.\n",
    "usr_many_ord = orders_per_usr[orders_per_usr['orders']> 3 ]['visitorId']\n",
    "\n",
    "usr_exp_ord = ordenes[ordenes['revenue']> 900]['visitorId']\n",
    "\n",
    "abnormal_usr = pd.concat([usr_many_ord,usr_exp_ord],axis=0).drop_duplicates()"
   ]
  },
  {
   "cell_type": "code",
   "execution_count": 44,
   "metadata": {},
   "outputs": [],
   "source": [
    "#Separo los usuarios con anomalias y creo un series con la cantidad de pedidos totales por usuario\n",
    "sample_A1 = order_per_usrA[~order_per_usrA['visitorId'].isin(abnormal_usr)]['orders']\n",
    "sample_B1 = order_per_usrB[~order_per_usrB['visitorId'].isin(abnormal_usr)]['orders']\n",
    "#Hago un objeto series para combinar con el series que se creo anteriormente para considerar a los usuarios que no hicieron pedidos\n",
    "sample_A2 = pd.Series(0, index= np.arange(visitas[visitas['group']=='A']['visits'].sum() - len(order_per_usrA['orders'])), name='orders')\n",
    "sample_B2 = pd.Series(0, index= np.arange(visitas[visitas['group']=='B']['visits'].sum() - len(order_per_usrB['orders'])), name='orders')"
   ]
  },
  {
   "cell_type": "code",
   "execution_count": 45,
   "metadata": {},
   "outputs": [],
   "source": [
    "sampleAfilter = pd.concat([sample_A1 , sample_A2], axis=0 )\n",
    "sampleBfilter = pd.concat([sample_B1 , sample_B2], axis=0 )"
   ]
  },
  {
   "cell_type": "code",
   "execution_count": 46,
   "metadata": {},
   "outputs": [
    {
     "name": "stdout",
     "output_type": "stream",
     "text": [
      "Valor P: 0.361\n",
      "Diferencia relativa: 0.034\n"
     ]
    }
   ],
   "source": [
    "\n",
    "print('Valor P:','{0:.3f}'.format(stats.mannwhitneyu(sampleAfilter , sampleBfilter)[1]))\n",
    "\n",
    "print('Diferencia relativa:','{0:.3f}'.format( sampleBfilter.mean() /sampleAfilter.mean() -1))"
   ]
  },
  {
   "cell_type": "markdown",
   "metadata": {},
   "source": [
    "Observamos en el resultado anterior que el valor p es mayor que nuestro valor alpha de 0.05, por lo que no hay evidencia de un cambio significativo en ambos grupos en cuando a la conversion.\n",
    "\n",
    "Este es el mismo resultado que se obtuvo antes de filtrar los datos para eliminar los datos anormales.\n",
    "\n",
    "Observamos en la segunda fila que la perdida relativa del grupo B es del 3.4%. Aqui se observa una diferencia del 1.4% repecto al resultado que obtuvimos antes de filtrar el df."
   ]
  },
  {
   "cell_type": "markdown",
   "metadata": {},
   "source": [
    "### Significancia estadística de la diferencia en el tamaño promedio de pedido (Datos filtrados)"
   ]
  },
  {
   "cell_type": "code",
   "execution_count": 47,
   "metadata": {},
   "outputs": [],
   "source": [
    "#Filtrar los usuarios con compras inusuales del dataframe\n",
    "ordenes_filter = ordenes[~ordenes['visitorId'].isin(abnormal_usr)]"
   ]
  },
  {
   "cell_type": "code",
   "execution_count": 48,
   "metadata": {},
   "outputs": [],
   "source": [
    "#Separar los grupos A y B para la prueba estadistica\n",
    "groupA_1 = ordenes_filter[ordenes_filter['group']=='A']['revenue']\n",
    "\n",
    "groupB_1 = ordenes_filter[ordenes_filter['group']=='B']['revenue']"
   ]
  },
  {
   "cell_type": "code",
   "execution_count": 49,
   "metadata": {},
   "outputs": [
    {
     "name": "stdout",
     "output_type": "stream",
     "text": [
      "Valor P: 0.885\n",
      "Diferencia relativa: -0.029\n"
     ]
    }
   ],
   "source": [
    "print('Valor P:','{0:.3f}'.format(stats.mannwhitneyu(groupA_1 , groupB_1)[1]))\n",
    "\n",
    "print('Diferencia relativa:','{0:.3f}'.format(groupB_1.mean() / groupA_1.mean() -1))"
   ]
  },
  {
   "cell_type": "markdown",
   "metadata": {},
   "source": [
    "Observamos en el resultado anterior que el valor p es mayor que nuestro valor alpha de 0.05, por lo que no hay evidencia de un cambio significativo en ambos grupos en cuando al tamaño promedio del pedido.\n",
    "\n",
    "Este esta es la misma conclusion que habiamos obtenido antes de filtrar los datos, pero podemos ver que el valor p se reduce una cantidad minima(.003)\n",
    "\n",
    "En la fila 2 se observa  ahora una perdida relativa de casi el 3% en el tamaño del pedido, anterioormente se habia obtenido un resultado de 25% de ganancia en el analisis realizado antes de filtrar los valores anormales."
   ]
  },
  {
   "cell_type": "markdown",
   "metadata": {},
   "source": [
    "## CONCLUSION"
   ]
  },
  {
   "cell_type": "markdown",
   "metadata": {},
   "source": [
    "Se priorizaron 9 hipotesis para aumentar las ventas, se aplicaron los metodos de ICE y RICE para evaluar con los criterios dados cuales eran las mejores opciones, llegando a los siguientes resultados de top 3:\n",
    "\n",
    "    -La hipotesis 7: Alto impacto y confiabilidad, esfuerzo medio y un alcance de 10.\n",
    "    \"Add a subscription form to all the main pages. This will help you compile a mailing list\"\n",
    "\n",
    "    -La hipotesis 2: Bajo impacto, media alta confiabilidad y bajo esfuerzo, alcance del 80%.\n",
    "    \"Add product recommendation blocks to the store's site. This will increase conversion and average purchase size\"\n",
    "\n",
    "    -La hipotesis 0: Bajo alcance, alto impacto y confiabilidad, esfuerzo medio.\n",
    "    \"Add two new channels for attracting traffic. This will bring 30% more users\"\n",
    "\n",
    "En este analisis tambien revisamos los datos resultantes de una prueba con los grupos A y B.\n",
    "\n",
    "Se  graficaron, calcularon y compararon los datos de la conversion media por grupo y el tamaño promedio de los pedidos realizados, despues de este analisis se obtuvieron los siguientes resultados:\n",
    "\n",
    "    - El grafico que muestra la diferencia relativa de tamaño promedio de pedido  nos indica que los resultados del grupo B son peores y no se recuperan, hasta el final indican una caida del 20% repecto al tamaño de pedido promedio del grupo A.\n",
    "    \n",
    "    -El grafico que muestra la diferencia relativa de conversion  nos indica que los resultados del grupo B oscilan mayormente sobre el 0, lo que indicaria que son similares a los del grupo B, sin embargo ya para el final de la prueba caen un -5% manteniendo despues tendencia positiva hasta el -2.5%, por lo que el resultado termina en perdida de conversion.\n",
    "    \n",
    "    -Los datos resultantes de las pruebas estadisticas con datos filtrados y datos en bruto nos llevaron a la misma conclusion, no hay una diferencia significativa entre el tamaño promedio de pedido entre el grupo A y B.\n",
    "    \n",
    "    -Los datos resultantes de las pruebas estadisticas con datos filtrados y datos en bruto nos llevaron a la misma conclusion, no hay una diferencia significativa entre el tamaño promedio de pedido entre el grupo A y B. El grupo B tuvo una predida relativa de 3% respecto al grupo A en el tamaño promedio de pedido.\n",
    "    \n",
    "      -Los datos resultantes de las pruebas estadisticas con datos filtrados y datos en bruto nos llevaron a la misma conclusion, no hay una diferencia significativa entre la conversion del grupo A y B. El grupo B tuvo una predida relativa de 3% respecto al grupo A en la conversion."
   ]
  },
  {
   "cell_type": "markdown",
   "metadata": {},
   "source": [
    "## RECOMENDACIONES"
   ]
  },
  {
   "cell_type": "markdown",
   "metadata": {},
   "source": [
    "<b> Hipotesis prioritarias</b>\n",
    "\n",
    "Se recomiendan la Hipotesis 7 y 2 principalmente por su alto impacto y confiabilidad seguido de la hipotesis 2 que parece ser una tarea sencilla y que puede tener beneficios pequeños a corto plazo.\n",
    "\n",
    "<b>Prueba A/B</b></b>\n",
    "\n",
    "Basandonos en los resultados obtenidos de las pruebas estadisticas concluimos que la prueba no fue exitosa y debe darse por terminada.\n",
    "Despues de analizar los resultados creemos que muy dificilmente el grupo B resulte mejor que el grupo A aunque se continue con la prueba mas tiempo."
   ]
  }
 ],
 "metadata": {
  "ExecuteTimeLog": [
   {
    "duration": 308,
    "start_time": "2024-08-27T01:22:12.247Z"
   },
   {
    "duration": 23,
    "start_time": "2024-08-27T01:22:28.911Z"
   },
   {
    "duration": 531,
    "start_time": "2024-08-27T01:22:36.828Z"
   },
   {
    "duration": 3892,
    "start_time": "2024-08-27T01:22:50.949Z"
   },
   {
    "duration": 30,
    "start_time": "2024-08-27T01:22:54.845Z"
   },
   {
    "duration": 16,
    "start_time": "2024-08-27T01:23:03.100Z"
   },
   {
    "duration": 14,
    "start_time": "2024-08-27T01:23:07.679Z"
   },
   {
    "duration": 17,
    "start_time": "2024-08-27T01:24:03.919Z"
   },
   {
    "duration": 18,
    "start_time": "2024-08-27T01:25:16.783Z"
   },
   {
    "duration": 557,
    "start_time": "2024-08-27T01:27:53.269Z"
   },
   {
    "duration": 191,
    "start_time": "2024-08-27T01:28:41.608Z"
   },
   {
    "duration": 84,
    "start_time": "2024-08-27T01:28:46.050Z"
   },
   {
    "duration": 18,
    "start_time": "2024-08-27T01:30:28.642Z"
   },
   {
    "duration": 19,
    "start_time": "2024-08-27T01:30:34.000Z"
   },
   {
    "duration": 40,
    "start_time": "2024-08-27T01:31:12.726Z"
   },
   {
    "duration": 26,
    "start_time": "2024-08-27T01:31:34.185Z"
   },
   {
    "duration": 26,
    "start_time": "2024-08-27T01:32:04.561Z"
   },
   {
    "duration": 25,
    "start_time": "2024-08-27T01:33:22.274Z"
   },
   {
    "duration": 19,
    "start_time": "2024-08-27T01:33:44.669Z"
   },
   {
    "duration": 17,
    "start_time": "2024-08-27T01:34:53.467Z"
   },
   {
    "duration": 22,
    "start_time": "2024-08-27T01:38:04.728Z"
   },
   {
    "duration": 8,
    "start_time": "2024-08-27T01:38:15.887Z"
   },
   {
    "duration": 23,
    "start_time": "2024-08-27T01:38:21.176Z"
   },
   {
    "duration": 23,
    "start_time": "2024-08-27T01:38:27.466Z"
   },
   {
    "duration": 7,
    "start_time": "2024-08-27T01:54:18.737Z"
   },
   {
    "duration": 8,
    "start_time": "2024-08-27T01:55:16.563Z"
   },
   {
    "duration": 369,
    "start_time": "2024-08-27T01:55:25.181Z"
   },
   {
    "duration": 62,
    "start_time": "2024-08-27T01:59:21.326Z"
   },
   {
    "duration": 63,
    "start_time": "2024-08-27T02:00:21.327Z"
   },
   {
    "duration": 65,
    "start_time": "2024-08-27T02:00:32.819Z"
   },
   {
    "duration": 35,
    "start_time": "2024-08-27T02:03:01.724Z"
   },
   {
    "duration": 25,
    "start_time": "2024-08-27T02:03:07.545Z"
   },
   {
    "duration": 26,
    "start_time": "2024-08-27T02:03:30.741Z"
   },
   {
    "duration": 27,
    "start_time": "2024-08-27T02:04:15.347Z"
   },
   {
    "duration": 9,
    "start_time": "2024-08-27T02:04:25.302Z"
   },
   {
    "duration": 20,
    "start_time": "2024-08-27T02:04:59.035Z"
   },
   {
    "duration": 68,
    "start_time": "2024-08-27T02:05:39.688Z"
   },
   {
    "duration": 67,
    "start_time": "2024-08-27T02:06:25.938Z"
   },
   {
    "duration": 66,
    "start_time": "2024-08-27T02:06:41.589Z"
   },
   {
    "duration": 68,
    "start_time": "2024-08-27T02:07:06.989Z"
   },
   {
    "duration": 67,
    "start_time": "2024-08-27T02:07:21.966Z"
   },
   {
    "duration": 65,
    "start_time": "2024-08-27T02:07:30.779Z"
   },
   {
    "duration": 6,
    "start_time": "2024-08-27T02:07:45.487Z"
   },
   {
    "duration": 68,
    "start_time": "2024-08-27T02:07:50.857Z"
   },
   {
    "duration": 66,
    "start_time": "2024-08-27T02:08:21.377Z"
   },
   {
    "duration": 70,
    "start_time": "2024-08-27T02:08:38.181Z"
   },
   {
    "duration": 6,
    "start_time": "2024-08-27T02:09:02.000Z"
   },
   {
    "duration": 6,
    "start_time": "2024-08-27T02:09:07.237Z"
   },
   {
    "duration": 74,
    "start_time": "2024-08-27T02:09:12.042Z"
   },
   {
    "duration": 6,
    "start_time": "2024-08-27T02:09:29.852Z"
   },
   {
    "duration": 66,
    "start_time": "2024-08-27T02:09:39.398Z"
   },
   {
    "duration": 66,
    "start_time": "2024-08-27T02:10:47.673Z"
   },
   {
    "duration": 66,
    "start_time": "2024-08-27T02:11:22.291Z"
   },
   {
    "duration": 68,
    "start_time": "2024-08-27T02:11:55.192Z"
   },
   {
    "duration": 24,
    "start_time": "2024-08-27T02:12:34.843Z"
   },
   {
    "duration": 20,
    "start_time": "2024-08-27T02:12:49.603Z"
   },
   {
    "duration": 22,
    "start_time": "2024-08-27T02:12:53.398Z"
   },
   {
    "duration": 16,
    "start_time": "2024-08-27T02:13:29.881Z"
   },
   {
    "duration": 20,
    "start_time": "2024-08-27T02:13:35.680Z"
   },
   {
    "duration": 1606,
    "start_time": "2024-08-27T02:13:58.769Z"
   },
   {
    "duration": 174,
    "start_time": "2024-08-27T02:14:14.767Z"
   },
   {
    "duration": 204,
    "start_time": "2024-08-27T02:14:49.186Z"
   },
   {
    "duration": 7,
    "start_time": "2024-08-27T02:16:44.737Z"
   },
   {
    "duration": 189,
    "start_time": "2024-08-27T02:17:03.865Z"
   },
   {
    "duration": 180,
    "start_time": "2024-08-27T02:17:44.638Z"
   },
   {
    "duration": 22,
    "start_time": "2024-08-27T02:19:59.587Z"
   },
   {
    "duration": 24,
    "start_time": "2024-08-27T02:20:07.250Z"
   },
   {
    "duration": 21,
    "start_time": "2024-08-27T02:21:51.850Z"
   },
   {
    "duration": 31,
    "start_time": "2024-08-27T02:22:55.446Z"
   },
   {
    "duration": 24,
    "start_time": "2024-08-27T02:23:18.916Z"
   },
   {
    "duration": 22,
    "start_time": "2024-08-27T02:23:22.544Z"
   },
   {
    "duration": 20,
    "start_time": "2024-08-27T02:24:05.373Z"
   },
   {
    "duration": 19,
    "start_time": "2024-08-27T02:25:02.224Z"
   },
   {
    "duration": 24,
    "start_time": "2024-08-27T02:25:42.190Z"
   },
   {
    "duration": 176,
    "start_time": "2024-08-27T02:28:07.966Z"
   },
   {
    "duration": 26,
    "start_time": "2024-08-27T02:28:14.577Z"
   },
   {
    "duration": 746,
    "start_time": "2024-08-27T02:28:37.038Z"
   },
   {
    "duration": 19,
    "start_time": "2024-08-27T02:28:37.787Z"
   },
   {
    "duration": 31,
    "start_time": "2024-08-27T02:28:37.808Z"
   },
   {
    "duration": 19,
    "start_time": "2024-08-27T02:28:37.842Z"
   },
   {
    "duration": 9,
    "start_time": "2024-08-27T02:28:37.864Z"
   },
   {
    "duration": 56,
    "start_time": "2024-08-27T02:28:37.877Z"
   },
   {
    "duration": 636,
    "start_time": "2024-08-27T02:31:32.778Z"
   },
   {
    "duration": 4,
    "start_time": "2024-08-27T02:35:46.368Z"
   },
   {
    "duration": 18,
    "start_time": "2024-08-27T02:35:46.376Z"
   },
   {
    "duration": 18,
    "start_time": "2024-08-27T02:35:46.396Z"
   },
   {
    "duration": 20,
    "start_time": "2024-08-27T02:35:46.417Z"
   },
   {
    "duration": 17,
    "start_time": "2024-08-27T02:35:53.596Z"
   },
   {
    "duration": 4,
    "start_time": "2024-08-27T02:36:02.041Z"
   },
   {
    "duration": 303,
    "start_time": "2024-08-27T02:37:35.290Z"
   },
   {
    "duration": 6,
    "start_time": "2024-08-27T02:38:18.280Z"
   },
   {
    "duration": 232,
    "start_time": "2024-08-27T02:38:31.155Z"
   },
   {
    "duration": 27,
    "start_time": "2024-08-27T02:39:00.596Z"
   },
   {
    "duration": 3,
    "start_time": "2024-08-27T02:39:32.466Z"
   },
   {
    "duration": 19,
    "start_time": "2024-08-27T02:39:32.473Z"
   },
   {
    "duration": 18,
    "start_time": "2024-08-27T02:39:32.495Z"
   },
   {
    "duration": 18,
    "start_time": "2024-08-27T02:39:32.516Z"
   },
   {
    "duration": 7,
    "start_time": "2024-08-27T02:39:36.425Z"
   },
   {
    "duration": 19,
    "start_time": "2024-08-27T02:39:42.960Z"
   },
   {
    "duration": 72,
    "start_time": "2024-08-27T02:39:50.950Z"
   },
   {
    "duration": 7,
    "start_time": "2024-08-27T02:42:14.495Z"
   },
   {
    "duration": 19,
    "start_time": "2024-08-27T02:42:22.158Z"
   },
   {
    "duration": 7,
    "start_time": "2024-08-27T02:42:53.434Z"
   },
   {
    "duration": 17,
    "start_time": "2024-08-27T02:43:05.672Z"
   },
   {
    "duration": 69,
    "start_time": "2024-08-27T02:43:19.542Z"
   },
   {
    "duration": 65,
    "start_time": "2024-08-27T02:45:44.615Z"
   },
   {
    "duration": 88,
    "start_time": "2024-08-27T02:48:50.183Z"
   },
   {
    "duration": 27,
    "start_time": "2024-08-27T02:49:09.573Z"
   },
   {
    "duration": 6,
    "start_time": "2024-08-27T02:49:20.494Z"
   },
   {
    "duration": 29,
    "start_time": "2024-08-27T02:49:30.216Z"
   },
   {
    "duration": 6,
    "start_time": "2024-08-27T02:49:37.196Z"
   },
   {
    "duration": 57,
    "start_time": "2024-08-27T02:49:55.968Z"
   },
   {
    "duration": 32,
    "start_time": "2024-08-27T02:50:16.796Z"
   },
   {
    "duration": 28,
    "start_time": "2024-08-27T02:51:01.633Z"
   },
   {
    "duration": 27,
    "start_time": "2024-08-27T02:51:26.024Z"
   },
   {
    "duration": 6,
    "start_time": "2024-08-27T02:51:40.625Z"
   },
   {
    "duration": 9,
    "start_time": "2024-08-27T02:51:43.691Z"
   },
   {
    "duration": 19,
    "start_time": "2024-08-27T02:51:46.749Z"
   },
   {
    "duration": 3,
    "start_time": "2024-08-27T03:02:59.606Z"
   },
   {
    "duration": 18,
    "start_time": "2024-08-27T03:02:59.614Z"
   },
   {
    "duration": 19,
    "start_time": "2024-08-27T03:02:59.635Z"
   },
   {
    "duration": 17,
    "start_time": "2024-08-27T03:02:59.657Z"
   },
   {
    "duration": 77,
    "start_time": "2024-08-27T03:03:03.717Z"
   },
   {
    "duration": 152,
    "start_time": "2024-08-27T03:04:04.143Z"
   },
   {
    "duration": 4,
    "start_time": "2024-08-27T03:04:17.351Z"
   },
   {
    "duration": 18,
    "start_time": "2024-08-27T03:04:17.362Z"
   },
   {
    "duration": 18,
    "start_time": "2024-08-27T03:04:17.383Z"
   },
   {
    "duration": 29,
    "start_time": "2024-08-27T03:04:17.405Z"
   },
   {
    "duration": 155,
    "start_time": "2024-08-27T03:04:21.924Z"
   },
   {
    "duration": 150,
    "start_time": "2024-08-27T03:04:26.309Z"
   },
   {
    "duration": 4,
    "start_time": "2024-08-27T03:04:30.790Z"
   },
   {
    "duration": 16,
    "start_time": "2024-08-27T03:04:30.798Z"
   },
   {
    "duration": 19,
    "start_time": "2024-08-27T03:04:30.817Z"
   },
   {
    "duration": 18,
    "start_time": "2024-08-27T03:04:30.839Z"
   },
   {
    "duration": 17,
    "start_time": "2024-08-27T03:04:37.486Z"
   },
   {
    "duration": 150,
    "start_time": "2024-08-27T03:04:42.509Z"
   },
   {
    "duration": 8,
    "start_time": "2024-08-27T03:05:01.858Z"
   },
   {
    "duration": 20,
    "start_time": "2024-08-27T03:05:06.292Z"
   },
   {
    "duration": 12,
    "start_time": "2024-08-27T03:06:31.573Z"
   },
   {
    "duration": 4,
    "start_time": "2024-08-27T03:07:05.459Z"
   },
   {
    "duration": 19,
    "start_time": "2024-08-27T03:07:05.468Z"
   },
   {
    "duration": 23,
    "start_time": "2024-08-27T03:07:05.491Z"
   },
   {
    "duration": 25,
    "start_time": "2024-08-27T03:07:05.517Z"
   },
   {
    "duration": 8,
    "start_time": "2024-08-27T03:07:05.546Z"
   },
   {
    "duration": 21,
    "start_time": "2024-08-27T03:07:05.557Z"
   },
   {
    "duration": 18,
    "start_time": "2024-08-27T03:07:28.982Z"
   },
   {
    "duration": 8,
    "start_time": "2024-08-27T03:07:39.572Z"
   },
   {
    "duration": 3,
    "start_time": "2024-08-27T03:11:06.748Z"
   },
   {
    "duration": 10,
    "start_time": "2024-08-27T03:17:07.249Z"
   },
   {
    "duration": 9,
    "start_time": "2024-08-27T03:17:09.904Z"
   },
   {
    "duration": 18,
    "start_time": "2024-08-27T03:17:49.495Z"
   },
   {
    "duration": 15,
    "start_time": "2024-08-27T03:17:53.998Z"
   },
   {
    "duration": 25,
    "start_time": "2024-08-27T03:19:00.121Z"
   },
   {
    "duration": 7,
    "start_time": "2024-08-27T03:21:04.439Z"
   },
   {
    "duration": 220,
    "start_time": "2024-08-27T03:25:51.365Z"
   },
   {
    "duration": 764,
    "start_time": "2024-08-27T03:29:00.483Z"
   },
   {
    "duration": 6,
    "start_time": "2024-08-27T03:29:12.798Z"
   },
   {
    "duration": 6,
    "start_time": "2024-08-27T03:29:15.462Z"
   },
   {
    "duration": 567,
    "start_time": "2024-08-27T03:31:27.889Z"
   },
   {
    "duration": 22,
    "start_time": "2024-08-27T03:32:10.717Z"
   },
   {
    "duration": 24,
    "start_time": "2024-08-27T03:33:31.872Z"
   },
   {
    "duration": 76,
    "start_time": "2024-08-27T03:36:40.388Z"
   },
   {
    "duration": 7,
    "start_time": "2024-08-27T03:40:00.026Z"
   },
   {
    "duration": 29,
    "start_time": "2024-08-27T03:42:22.942Z"
   },
   {
    "duration": 12,
    "start_time": "2024-08-27T03:42:44.581Z"
   },
   {
    "duration": 12,
    "start_time": "2024-08-27T03:42:54.685Z"
   },
   {
    "duration": 19,
    "start_time": "2024-08-27T03:44:07.248Z"
   },
   {
    "duration": 32,
    "start_time": "2024-08-27T03:44:30.325Z"
   },
   {
    "duration": 31,
    "start_time": "2024-08-27T03:44:53.878Z"
   },
   {
    "duration": 12,
    "start_time": "2024-08-27T03:45:37.920Z"
   },
   {
    "duration": 13,
    "start_time": "2024-08-27T03:45:50.129Z"
   },
   {
    "duration": 13,
    "start_time": "2024-08-27T03:49:24.450Z"
   },
   {
    "duration": 16,
    "start_time": "2024-08-27T03:54:31.693Z"
   },
   {
    "duration": 6,
    "start_time": "2024-08-27T03:55:04.698Z"
   },
   {
    "duration": 20,
    "start_time": "2024-08-27T03:55:34.758Z"
   },
   {
    "duration": 14,
    "start_time": "2024-08-27T04:01:20.684Z"
   },
   {
    "duration": 26,
    "start_time": "2024-08-27T04:02:30.757Z"
   },
   {
    "duration": 14,
    "start_time": "2024-08-27T04:02:34.205Z"
   },
   {
    "duration": 6,
    "start_time": "2024-08-27T04:05:31.069Z"
   },
   {
    "duration": 20,
    "start_time": "2024-08-27T04:06:17.322Z"
   },
   {
    "duration": 8,
    "start_time": "2024-08-27T04:06:27.749Z"
   },
   {
    "duration": 10,
    "start_time": "2024-08-27T04:13:14.746Z"
   },
   {
    "duration": 12,
    "start_time": "2024-08-27T04:19:10.350Z"
   },
   {
    "duration": 4,
    "start_time": "2024-08-27T04:19:33.931Z"
   },
   {
    "duration": 19,
    "start_time": "2024-08-27T04:19:33.942Z"
   },
   {
    "duration": 17,
    "start_time": "2024-08-27T04:19:33.969Z"
   },
   {
    "duration": 3,
    "start_time": "2024-08-27T04:19:33.989Z"
   },
   {
    "duration": 9,
    "start_time": "2024-08-27T04:19:33.995Z"
   },
   {
    "duration": 9,
    "start_time": "2024-08-27T04:19:34.034Z"
   },
   {
    "duration": 6,
    "start_time": "2024-08-27T04:19:34.074Z"
   },
   {
    "duration": 11,
    "start_time": "2024-08-27T04:19:34.084Z"
   },
   {
    "duration": 5,
    "start_time": "2024-08-27T04:19:34.099Z"
   },
   {
    "duration": 7,
    "start_time": "2024-08-27T04:21:12.684Z"
   },
   {
    "duration": 54,
    "start_time": "2024-08-27T04:21:24.518Z"
   },
   {
    "duration": 24,
    "start_time": "2024-08-27T04:22:04.336Z"
   },
   {
    "duration": 9,
    "start_time": "2024-08-27T04:22:10.627Z"
   },
   {
    "duration": 12,
    "start_time": "2024-08-27T04:22:58.867Z"
   },
   {
    "duration": 13,
    "start_time": "2024-08-27T04:23:20.181Z"
   },
   {
    "duration": 6,
    "start_time": "2024-08-27T04:27:35.883Z"
   },
   {
    "duration": 107,
    "start_time": "2024-08-27T04:27:51.347Z"
   },
   {
    "duration": 53,
    "start_time": "2024-08-27T04:28:22.440Z"
   },
   {
    "duration": 80,
    "start_time": "2024-08-27T04:28:54.842Z"
   },
   {
    "duration": 737,
    "start_time": "2024-08-27T04:29:07.239Z"
   },
   {
    "duration": 20,
    "start_time": "2024-08-27T04:29:07.981Z"
   },
   {
    "duration": 18,
    "start_time": "2024-08-27T04:29:08.004Z"
   },
   {
    "duration": 4,
    "start_time": "2024-08-27T04:29:08.035Z"
   },
   {
    "duration": 9,
    "start_time": "2024-08-27T04:29:08.042Z"
   },
   {
    "duration": 10,
    "start_time": "2024-08-27T04:29:08.054Z"
   },
   {
    "duration": 8,
    "start_time": "2024-08-27T04:29:08.067Z"
   },
   {
    "duration": 62,
    "start_time": "2024-08-27T04:29:08.078Z"
   },
   {
    "duration": 7,
    "start_time": "2024-08-27T04:29:08.142Z"
   },
   {
    "duration": 180,
    "start_time": "2024-08-27T04:29:08.154Z"
   },
   {
    "duration": 684,
    "start_time": "2024-08-27T04:33:10.985Z"
   },
   {
    "duration": 17,
    "start_time": "2024-08-27T04:33:11.672Z"
   },
   {
    "duration": 18,
    "start_time": "2024-08-27T04:33:11.692Z"
   },
   {
    "duration": 3,
    "start_time": "2024-08-27T04:33:11.733Z"
   },
   {
    "duration": 9,
    "start_time": "2024-08-27T04:33:11.741Z"
   },
   {
    "duration": 11,
    "start_time": "2024-08-27T04:33:11.753Z"
   },
   {
    "duration": 12,
    "start_time": "2024-08-27T04:33:11.767Z"
   },
   {
    "duration": 202,
    "start_time": "2024-08-27T04:33:11.782Z"
   },
   {
    "duration": 0,
    "start_time": "2024-08-27T04:33:11.987Z"
   },
   {
    "duration": 0,
    "start_time": "2024-08-27T04:33:11.989Z"
   },
   {
    "duration": 32,
    "start_time": "2024-08-27T04:35:07.419Z"
   },
   {
    "duration": 27,
    "start_time": "2024-08-27T04:36:20.395Z"
   },
   {
    "duration": 7,
    "start_time": "2024-08-27T04:36:39.270Z"
   },
   {
    "duration": 11,
    "start_time": "2024-08-27T04:36:52.371Z"
   },
   {
    "duration": 20,
    "start_time": "2024-08-27T04:38:20.585Z"
   },
   {
    "duration": 18,
    "start_time": "2024-08-27T04:38:46.590Z"
   },
   {
    "duration": 13,
    "start_time": "2024-08-27T04:40:36.198Z"
   },
   {
    "duration": 156,
    "start_time": "2024-08-27T19:03:18.832Z"
   },
   {
    "duration": 2250,
    "start_time": "2024-08-27T19:03:26.087Z"
   },
   {
    "duration": 21,
    "start_time": "2024-08-27T19:03:28.339Z"
   },
   {
    "duration": 13,
    "start_time": "2024-08-27T19:03:28.361Z"
   },
   {
    "duration": 2,
    "start_time": "2024-08-27T19:03:28.376Z"
   },
   {
    "duration": 5,
    "start_time": "2024-08-27T19:03:28.386Z"
   },
   {
    "duration": 5,
    "start_time": "2024-08-27T19:03:28.393Z"
   },
   {
    "duration": 7,
    "start_time": "2024-08-27T19:03:28.400Z"
   },
   {
    "duration": 4,
    "start_time": "2024-08-27T19:03:28.408Z"
   },
   {
    "duration": 4,
    "start_time": "2024-08-27T19:03:28.414Z"
   },
   {
    "duration": 11,
    "start_time": "2024-08-27T19:03:28.421Z"
   },
   {
    "duration": 9,
    "start_time": "2024-08-27T19:03:28.433Z"
   },
   {
    "duration": 5,
    "start_time": "2024-08-27T19:06:04.577Z"
   },
   {
    "duration": 6,
    "start_time": "2024-08-27T19:06:09.544Z"
   },
   {
    "duration": 4,
    "start_time": "2024-08-27T19:06:24.648Z"
   },
   {
    "duration": 5,
    "start_time": "2024-08-27T19:06:26.708Z"
   },
   {
    "duration": 11,
    "start_time": "2024-08-27T19:07:59.292Z"
   },
   {
    "duration": 3,
    "start_time": "2024-08-27T19:11:25.652Z"
   },
   {
    "duration": 4,
    "start_time": "2024-08-27T19:14:47.979Z"
   },
   {
    "duration": 4,
    "start_time": "2024-08-27T19:14:57.501Z"
   },
   {
    "duration": 93,
    "start_time": "2024-08-27T19:15:10.679Z"
   },
   {
    "duration": 4,
    "start_time": "2024-08-27T19:15:17.142Z"
   },
   {
    "duration": 20,
    "start_time": "2024-08-27T19:15:24.765Z"
   },
   {
    "duration": 4,
    "start_time": "2024-08-27T19:15:36.257Z"
   },
   {
    "duration": 3,
    "start_time": "2024-08-27T19:22:28.372Z"
   },
   {
    "duration": 3,
    "start_time": "2024-08-27T19:22:35.130Z"
   },
   {
    "duration": 10,
    "start_time": "2024-08-27T19:22:57.771Z"
   },
   {
    "duration": 3,
    "start_time": "2024-08-27T19:23:04.118Z"
   },
   {
    "duration": 4,
    "start_time": "2024-08-27T19:24:28.347Z"
   },
   {
    "duration": 4,
    "start_time": "2024-08-27T19:25:32.054Z"
   },
   {
    "duration": 3,
    "start_time": "2024-08-27T19:27:03.473Z"
   },
   {
    "duration": 141,
    "start_time": "2024-08-27T19:31:16.582Z"
   },
   {
    "duration": 17,
    "start_time": "2024-08-27T19:31:37.372Z"
   },
   {
    "duration": 6,
    "start_time": "2024-08-27T19:32:15.608Z"
   },
   {
    "duration": 14,
    "start_time": "2024-08-27T19:33:01.681Z"
   },
   {
    "duration": 12,
    "start_time": "2024-08-27T19:33:48.151Z"
   },
   {
    "duration": 5,
    "start_time": "2024-08-27T19:34:27.223Z"
   },
   {
    "duration": 93,
    "start_time": "2024-08-27T19:34:31.534Z"
   },
   {
    "duration": 4,
    "start_time": "2024-08-27T19:34:37.457Z"
   },
   {
    "duration": 6,
    "start_time": "2024-08-27T19:34:41.495Z"
   },
   {
    "duration": 8,
    "start_time": "2024-08-27T19:35:24.189Z"
   },
   {
    "duration": 4,
    "start_time": "2024-08-27T20:08:22.150Z"
   },
   {
    "duration": 458,
    "start_time": "2024-08-27T20:16:11.269Z"
   },
   {
    "duration": 14,
    "start_time": "2024-08-27T20:16:11.730Z"
   },
   {
    "duration": 12,
    "start_time": "2024-08-27T20:16:11.745Z"
   },
   {
    "duration": 2,
    "start_time": "2024-08-27T20:16:11.759Z"
   },
   {
    "duration": 5,
    "start_time": "2024-08-27T20:16:11.764Z"
   },
   {
    "duration": 5,
    "start_time": "2024-08-27T20:16:11.786Z"
   },
   {
    "duration": 7,
    "start_time": "2024-08-27T20:16:11.793Z"
   },
   {
    "duration": 3,
    "start_time": "2024-08-27T20:16:11.802Z"
   },
   {
    "duration": 0,
    "start_time": "2024-08-27T20:16:11.807Z"
   },
   {
    "duration": 0,
    "start_time": "2024-08-27T20:16:11.808Z"
   },
   {
    "duration": 0,
    "start_time": "2024-08-27T20:16:11.809Z"
   },
   {
    "duration": 0,
    "start_time": "2024-08-27T20:16:11.810Z"
   },
   {
    "duration": 0,
    "start_time": "2024-08-27T20:16:11.811Z"
   },
   {
    "duration": 0,
    "start_time": "2024-08-27T20:16:11.812Z"
   },
   {
    "duration": 0,
    "start_time": "2024-08-27T20:16:11.813Z"
   },
   {
    "duration": 0,
    "start_time": "2024-08-27T20:16:11.814Z"
   },
   {
    "duration": 0,
    "start_time": "2024-08-27T20:16:11.815Z"
   },
   {
    "duration": 93,
    "start_time": "2024-08-27T20:17:10.832Z"
   },
   {
    "duration": 11,
    "start_time": "2024-08-27T20:17:50.147Z"
   },
   {
    "duration": 12,
    "start_time": "2024-08-27T20:19:05.201Z"
   },
   {
    "duration": 453,
    "start_time": "2024-08-27T20:19:15.689Z"
   },
   {
    "duration": 11,
    "start_time": "2024-08-27T20:19:16.144Z"
   },
   {
    "duration": 11,
    "start_time": "2024-08-27T20:19:16.156Z"
   },
   {
    "duration": 2,
    "start_time": "2024-08-27T20:19:16.168Z"
   },
   {
    "duration": 5,
    "start_time": "2024-08-27T20:19:16.187Z"
   },
   {
    "duration": 6,
    "start_time": "2024-08-27T20:19:16.194Z"
   },
   {
    "duration": 8,
    "start_time": "2024-08-27T20:19:16.201Z"
   },
   {
    "duration": 115,
    "start_time": "2024-08-27T20:19:16.210Z"
   },
   {
    "duration": 0,
    "start_time": "2024-08-27T20:19:16.327Z"
   },
   {
    "duration": 0,
    "start_time": "2024-08-27T20:19:16.328Z"
   },
   {
    "duration": 0,
    "start_time": "2024-08-27T20:19:16.330Z"
   },
   {
    "duration": 0,
    "start_time": "2024-08-27T20:19:16.331Z"
   },
   {
    "duration": 0,
    "start_time": "2024-08-27T20:19:16.332Z"
   },
   {
    "duration": 0,
    "start_time": "2024-08-27T20:19:16.334Z"
   },
   {
    "duration": 0,
    "start_time": "2024-08-27T20:19:16.335Z"
   },
   {
    "duration": 0,
    "start_time": "2024-08-27T20:19:16.336Z"
   },
   {
    "duration": 0,
    "start_time": "2024-08-27T20:19:16.337Z"
   },
   {
    "duration": 12,
    "start_time": "2024-08-27T20:20:09.680Z"
   },
   {
    "duration": 111,
    "start_time": "2024-08-27T20:21:17.857Z"
   },
   {
    "duration": 12,
    "start_time": "2024-08-27T20:25:30.569Z"
   },
   {
    "duration": 439,
    "start_time": "2024-08-27T20:25:43.349Z"
   },
   {
    "duration": 11,
    "start_time": "2024-08-27T20:25:43.790Z"
   },
   {
    "duration": 12,
    "start_time": "2024-08-27T20:25:43.802Z"
   },
   {
    "duration": 1,
    "start_time": "2024-08-27T20:25:43.816Z"
   },
   {
    "duration": 6,
    "start_time": "2024-08-27T20:25:43.820Z"
   },
   {
    "duration": 7,
    "start_time": "2024-08-27T20:25:43.827Z"
   },
   {
    "duration": 8,
    "start_time": "2024-08-27T20:25:43.835Z"
   },
   {
    "duration": 130,
    "start_time": "2024-08-27T20:25:43.844Z"
   },
   {
    "duration": 0,
    "start_time": "2024-08-27T20:25:43.976Z"
   },
   {
    "duration": 0,
    "start_time": "2024-08-27T20:25:43.977Z"
   },
   {
    "duration": 0,
    "start_time": "2024-08-27T20:25:43.978Z"
   },
   {
    "duration": 0,
    "start_time": "2024-08-27T20:25:43.986Z"
   },
   {
    "duration": 0,
    "start_time": "2024-08-27T20:25:43.988Z"
   },
   {
    "duration": 0,
    "start_time": "2024-08-27T20:25:43.989Z"
   },
   {
    "duration": 0,
    "start_time": "2024-08-27T20:25:43.991Z"
   },
   {
    "duration": 0,
    "start_time": "2024-08-27T20:25:43.992Z"
   },
   {
    "duration": 0,
    "start_time": "2024-08-27T20:25:43.993Z"
   },
   {
    "duration": 11,
    "start_time": "2024-08-27T20:43:06.846Z"
   },
   {
    "duration": 12,
    "start_time": "2024-08-27T20:43:52.747Z"
   },
   {
    "duration": 11,
    "start_time": "2024-08-27T20:44:08.490Z"
   },
   {
    "duration": 636,
    "start_time": "2024-08-27T20:50:30.322Z"
   },
   {
    "duration": 5,
    "start_time": "2024-08-27T20:51:09.711Z"
   },
   {
    "duration": 6,
    "start_time": "2024-08-27T20:51:28.093Z"
   },
   {
    "duration": 436,
    "start_time": "2024-08-27T20:51:52.138Z"
   },
   {
    "duration": 16,
    "start_time": "2024-08-27T20:51:52.576Z"
   },
   {
    "duration": 11,
    "start_time": "2024-08-27T20:51:52.593Z"
   },
   {
    "duration": 2,
    "start_time": "2024-08-27T20:51:52.606Z"
   },
   {
    "duration": 5,
    "start_time": "2024-08-27T20:51:52.610Z"
   },
   {
    "duration": 7,
    "start_time": "2024-08-27T20:51:52.616Z"
   },
   {
    "duration": 8,
    "start_time": "2024-08-27T20:51:52.624Z"
   },
   {
    "duration": 10,
    "start_time": "2024-08-27T20:51:52.633Z"
   },
   {
    "duration": 4,
    "start_time": "2024-08-27T20:51:52.644Z"
   },
   {
    "duration": 10,
    "start_time": "2024-08-27T20:51:52.687Z"
   },
   {
    "duration": 3,
    "start_time": "2024-08-27T20:51:52.698Z"
   },
   {
    "duration": 4,
    "start_time": "2024-08-27T20:51:52.702Z"
   },
   {
    "duration": 5,
    "start_time": "2024-08-27T20:51:52.707Z"
   },
   {
    "duration": 9,
    "start_time": "2024-08-27T20:51:52.716Z"
   },
   {
    "duration": 3,
    "start_time": "2024-08-27T20:51:52.727Z"
   },
   {
    "duration": 6,
    "start_time": "2024-08-27T20:51:52.732Z"
   },
   {
    "duration": 51,
    "start_time": "2024-08-27T20:51:52.740Z"
   },
   {
    "duration": 763,
    "start_time": "2024-08-27T20:55:58.156Z"
   },
   {
    "duration": 106,
    "start_time": "2024-08-27T20:57:38.783Z"
   },
   {
    "duration": 470,
    "start_time": "2024-08-27T20:57:53.913Z"
   },
   {
    "duration": 12,
    "start_time": "2024-08-27T20:57:54.385Z"
   },
   {
    "duration": 11,
    "start_time": "2024-08-27T20:57:54.399Z"
   },
   {
    "duration": 2,
    "start_time": "2024-08-27T20:57:54.411Z"
   },
   {
    "duration": 5,
    "start_time": "2024-08-27T20:57:54.416Z"
   },
   {
    "duration": 5,
    "start_time": "2024-08-27T20:57:54.423Z"
   },
   {
    "duration": 6,
    "start_time": "2024-08-27T20:57:54.430Z"
   },
   {
    "duration": 803,
    "start_time": "2024-08-27T20:57:54.438Z"
   },
   {
    "duration": 0,
    "start_time": "2024-08-27T20:57:55.243Z"
   },
   {
    "duration": 0,
    "start_time": "2024-08-27T20:57:55.244Z"
   },
   {
    "duration": 0,
    "start_time": "2024-08-27T20:57:55.246Z"
   },
   {
    "duration": 0,
    "start_time": "2024-08-27T20:57:55.247Z"
   },
   {
    "duration": 0,
    "start_time": "2024-08-27T20:57:55.248Z"
   },
   {
    "duration": 0,
    "start_time": "2024-08-27T20:57:55.249Z"
   },
   {
    "duration": 0,
    "start_time": "2024-08-27T20:57:55.251Z"
   },
   {
    "duration": 0,
    "start_time": "2024-08-27T20:57:55.251Z"
   },
   {
    "duration": 0,
    "start_time": "2024-08-27T20:57:55.253Z"
   },
   {
    "duration": 19,
    "start_time": "2024-08-27T20:58:17.806Z"
   },
   {
    "duration": 4,
    "start_time": "2024-08-27T20:58:23.171Z"
   },
   {
    "duration": 14,
    "start_time": "2024-08-27T20:58:26.778Z"
   },
   {
    "duration": 10,
    "start_time": "2024-08-27T20:59:11.997Z"
   },
   {
    "duration": 10,
    "start_time": "2024-08-27T20:59:20.028Z"
   },
   {
    "duration": 7,
    "start_time": "2024-08-27T21:01:33.193Z"
   },
   {
    "duration": 7,
    "start_time": "2024-08-27T21:01:46.120Z"
   },
   {
    "duration": 8,
    "start_time": "2024-08-27T21:02:22.478Z"
   },
   {
    "duration": 12,
    "start_time": "2024-08-27T21:02:38.659Z"
   },
   {
    "duration": 4,
    "start_time": "2024-08-27T21:08:50.655Z"
   },
   {
    "duration": 9,
    "start_time": "2024-08-27T21:22:34.815Z"
   },
   {
    "duration": 10,
    "start_time": "2024-08-27T21:22:38.583Z"
   },
   {
    "duration": 5,
    "start_time": "2024-08-27T21:22:42.723Z"
   },
   {
    "duration": 11,
    "start_time": "2024-08-27T21:22:50.303Z"
   },
   {
    "duration": 171,
    "start_time": "2024-08-27T22:39:42.299Z"
   },
   {
    "duration": 2224,
    "start_time": "2024-08-27T22:39:51.256Z"
   },
   {
    "duration": 25,
    "start_time": "2024-08-27T22:39:53.482Z"
   },
   {
    "duration": 11,
    "start_time": "2024-08-27T22:39:53.509Z"
   },
   {
    "duration": 2,
    "start_time": "2024-08-27T22:39:53.522Z"
   },
   {
    "duration": 4,
    "start_time": "2024-08-27T22:39:53.528Z"
   },
   {
    "duration": 9,
    "start_time": "2024-08-27T22:39:53.534Z"
   },
   {
    "duration": 25,
    "start_time": "2024-08-27T22:39:53.546Z"
   },
   {
    "duration": 7,
    "start_time": "2024-08-27T22:39:53.572Z"
   },
   {
    "duration": 5,
    "start_time": "2024-08-27T22:39:53.581Z"
   },
   {
    "duration": 13,
    "start_time": "2024-08-27T22:39:53.588Z"
   },
   {
    "duration": 3,
    "start_time": "2024-08-27T22:39:53.602Z"
   },
   {
    "duration": 5,
    "start_time": "2024-08-27T22:39:53.606Z"
   },
   {
    "duration": 5,
    "start_time": "2024-08-27T22:39:53.612Z"
   },
   {
    "duration": 11,
    "start_time": "2024-08-27T22:39:53.620Z"
   },
   {
    "duration": 37,
    "start_time": "2024-08-27T22:39:53.633Z"
   },
   {
    "duration": 8,
    "start_time": "2024-08-27T22:39:53.672Z"
   },
   {
    "duration": 8,
    "start_time": "2024-08-27T22:39:53.682Z"
   },
   {
    "duration": 269,
    "start_time": "2024-08-27T22:39:53.692Z"
   },
   {
    "duration": 3,
    "start_time": "2024-08-27T22:40:06.731Z"
   },
   {
    "duration": 5,
    "start_time": "2024-08-27T22:40:23.841Z"
   },
   {
    "duration": 4,
    "start_time": "2024-08-27T22:40:39.056Z"
   },
   {
    "duration": 79,
    "start_time": "2024-08-27T22:41:14.598Z"
   },
   {
    "duration": 3,
    "start_time": "2024-08-27T22:41:19.695Z"
   },
   {
    "duration": 4,
    "start_time": "2024-08-27T22:41:22.551Z"
   },
   {
    "duration": 9,
    "start_time": "2024-08-27T22:41:34.809Z"
   },
   {
    "duration": 9,
    "start_time": "2024-08-27T22:42:09.664Z"
   },
   {
    "duration": 10,
    "start_time": "2024-08-27T22:42:13.796Z"
   },
   {
    "duration": 10,
    "start_time": "2024-08-27T22:42:25.505Z"
   },
   {
    "duration": 3,
    "start_time": "2024-08-27T22:42:43.175Z"
   },
   {
    "duration": 12,
    "start_time": "2024-08-27T22:43:15.861Z"
   },
   {
    "duration": 424,
    "start_time": "2024-08-27T22:45:00.028Z"
   },
   {
    "duration": 131,
    "start_time": "2024-08-27T22:46:19.665Z"
   },
   {
    "duration": 554,
    "start_time": "2024-08-27T22:46:36.316Z"
   },
   {
    "duration": 17,
    "start_time": "2024-08-27T22:46:36.873Z"
   },
   {
    "duration": 13,
    "start_time": "2024-08-27T22:46:36.892Z"
   },
   {
    "duration": 2,
    "start_time": "2024-08-27T22:46:36.907Z"
   },
   {
    "duration": 6,
    "start_time": "2024-08-27T22:46:36.912Z"
   },
   {
    "duration": 7,
    "start_time": "2024-08-27T22:46:36.920Z"
   },
   {
    "duration": 9,
    "start_time": "2024-08-27T22:46:36.928Z"
   },
   {
    "duration": 36,
    "start_time": "2024-08-27T22:46:36.938Z"
   },
   {
    "duration": 5,
    "start_time": "2024-08-27T22:46:36.976Z"
   },
   {
    "duration": 11,
    "start_time": "2024-08-27T22:46:36.982Z"
   },
   {
    "duration": 2,
    "start_time": "2024-08-27T22:46:36.996Z"
   },
   {
    "duration": 6,
    "start_time": "2024-08-27T22:46:37.000Z"
   },
   {
    "duration": 5,
    "start_time": "2024-08-27T22:46:37.009Z"
   },
   {
    "duration": 11,
    "start_time": "2024-08-27T22:46:37.017Z"
   },
   {
    "duration": 3,
    "start_time": "2024-08-27T22:46:37.029Z"
   },
   {
    "duration": 43,
    "start_time": "2024-08-27T22:46:37.034Z"
   },
   {
    "duration": 10,
    "start_time": "2024-08-27T22:46:37.079Z"
   },
   {
    "duration": 531,
    "start_time": "2024-08-27T22:46:37.091Z"
   },
   {
    "duration": 18,
    "start_time": "2024-08-27T22:47:02.988Z"
   },
   {
    "duration": 2,
    "start_time": "2024-08-27T22:47:28.229Z"
   },
   {
    "duration": 59,
    "start_time": "2024-08-27T22:47:40.299Z"
   },
   {
    "duration": 230,
    "start_time": "2024-08-27T22:47:56.481Z"
   },
   {
    "duration": 4,
    "start_time": "2024-08-27T22:48:10.063Z"
   },
   {
    "duration": 4,
    "start_time": "2024-08-27T22:48:13.441Z"
   },
   {
    "duration": 6,
    "start_time": "2024-08-27T22:48:34.267Z"
   },
   {
    "duration": 8,
    "start_time": "2024-08-27T22:48:49.239Z"
   },
   {
    "duration": 107,
    "start_time": "2024-08-27T23:19:52.091Z"
   },
   {
    "duration": 454,
    "start_time": "2024-08-27T23:20:03.998Z"
   },
   {
    "duration": 15,
    "start_time": "2024-08-27T23:20:04.455Z"
   },
   {
    "duration": 27,
    "start_time": "2024-08-27T23:20:04.471Z"
   },
   {
    "duration": 2,
    "start_time": "2024-08-27T23:20:04.499Z"
   },
   {
    "duration": 6,
    "start_time": "2024-08-27T23:20:04.505Z"
   },
   {
    "duration": 6,
    "start_time": "2024-08-27T23:20:04.512Z"
   },
   {
    "duration": 7,
    "start_time": "2024-08-27T23:20:04.520Z"
   },
   {
    "duration": 5,
    "start_time": "2024-08-27T23:20:04.529Z"
   },
   {
    "duration": 6,
    "start_time": "2024-08-27T23:20:04.535Z"
   },
   {
    "duration": 46,
    "start_time": "2024-08-27T23:20:04.543Z"
   },
   {
    "duration": 3,
    "start_time": "2024-08-27T23:20:04.598Z"
   },
   {
    "duration": 4,
    "start_time": "2024-08-27T23:20:04.603Z"
   },
   {
    "duration": 5,
    "start_time": "2024-08-27T23:20:04.609Z"
   },
   {
    "duration": 10,
    "start_time": "2024-08-27T23:20:04.617Z"
   },
   {
    "duration": 2,
    "start_time": "2024-08-27T23:20:04.629Z"
   },
   {
    "duration": 7,
    "start_time": "2024-08-27T23:20:04.634Z"
   },
   {
    "duration": 8,
    "start_time": "2024-08-27T23:20:04.644Z"
   },
   {
    "duration": 44,
    "start_time": "2024-08-27T23:20:04.653Z"
   },
   {
    "duration": 447,
    "start_time": "2024-08-27T23:20:04.699Z"
   },
   {
    "duration": 374,
    "start_time": "2024-08-27T23:20:55.356Z"
   },
   {
    "duration": 6,
    "start_time": "2024-08-27T23:21:43.835Z"
   },
   {
    "duration": 6,
    "start_time": "2024-08-27T23:21:46.680Z"
   },
   {
    "duration": 11,
    "start_time": "2024-08-27T23:22:02.361Z"
   },
   {
    "duration": 10,
    "start_time": "2024-08-27T23:24:44.118Z"
   },
   {
    "duration": 159,
    "start_time": "2024-08-27T23:28:53.310Z"
   },
   {
    "duration": 737,
    "start_time": "2024-08-27T23:30:07.579Z"
   },
   {
    "duration": 484,
    "start_time": "2024-08-27T23:32:05.665Z"
   },
   {
    "duration": 17,
    "start_time": "2024-08-27T23:32:06.151Z"
   },
   {
    "duration": 14,
    "start_time": "2024-08-27T23:32:06.170Z"
   },
   {
    "duration": 2,
    "start_time": "2024-08-27T23:32:06.186Z"
   },
   {
    "duration": 5,
    "start_time": "2024-08-27T23:32:06.191Z"
   },
   {
    "duration": 9,
    "start_time": "2024-08-27T23:32:06.198Z"
   },
   {
    "duration": 8,
    "start_time": "2024-08-27T23:32:06.209Z"
   },
   {
    "duration": 7,
    "start_time": "2024-08-27T23:32:06.219Z"
   },
   {
    "duration": 5,
    "start_time": "2024-08-27T23:32:06.228Z"
   },
   {
    "duration": 14,
    "start_time": "2024-08-27T23:32:06.271Z"
   },
   {
    "duration": 3,
    "start_time": "2024-08-27T23:32:06.287Z"
   },
   {
    "duration": 3,
    "start_time": "2024-08-27T23:32:06.292Z"
   },
   {
    "duration": 5,
    "start_time": "2024-08-27T23:32:06.297Z"
   },
   {
    "duration": 10,
    "start_time": "2024-08-27T23:32:06.305Z"
   },
   {
    "duration": 3,
    "start_time": "2024-08-27T23:32:06.316Z"
   },
   {
    "duration": 19,
    "start_time": "2024-08-27T23:32:06.321Z"
   },
   {
    "duration": 33,
    "start_time": "2024-08-27T23:32:06.342Z"
   },
   {
    "duration": 8,
    "start_time": "2024-08-27T23:32:06.377Z"
   },
   {
    "duration": 164,
    "start_time": "2024-08-27T23:32:06.386Z"
   },
   {
    "duration": 94,
    "start_time": "2024-08-27T23:36:24.086Z"
   },
   {
    "duration": 159,
    "start_time": "2024-08-27T23:36:26.681Z"
   },
   {
    "duration": 7,
    "start_time": "2024-08-27T23:38:18.418Z"
   },
   {
    "duration": 8,
    "start_time": "2024-08-27T23:38:40.313Z"
   },
   {
    "duration": 8,
    "start_time": "2024-08-27T23:40:34.673Z"
   },
   {
    "duration": 6,
    "start_time": "2024-08-28T00:01:35.487Z"
   },
   {
    "duration": 192,
    "start_time": "2024-08-28T00:03:39.884Z"
   },
   {
    "duration": 232,
    "start_time": "2024-08-28T00:16:10.771Z"
   },
   {
    "duration": 142,
    "start_time": "2024-08-28T00:16:29.241Z"
   },
   {
    "duration": 6,
    "start_time": "2024-08-28T00:22:25.933Z"
   },
   {
    "duration": 24,
    "start_time": "2024-08-28T00:27:30.782Z"
   },
   {
    "duration": 7,
    "start_time": "2024-08-28T00:28:12.958Z"
   },
   {
    "duration": 176,
    "start_time": "2024-08-28T00:28:14.526Z"
   },
   {
    "duration": 153,
    "start_time": "2024-08-28T02:08:24.938Z"
   },
   {
    "duration": 2085,
    "start_time": "2024-08-28T02:08:53.556Z"
   },
   {
    "duration": 25,
    "start_time": "2024-08-28T02:08:55.643Z"
   },
   {
    "duration": 11,
    "start_time": "2024-08-28T02:08:55.670Z"
   },
   {
    "duration": 2,
    "start_time": "2024-08-28T02:08:55.683Z"
   },
   {
    "duration": 4,
    "start_time": "2024-08-28T02:08:55.687Z"
   },
   {
    "duration": 6,
    "start_time": "2024-08-28T02:08:55.692Z"
   },
   {
    "duration": 7,
    "start_time": "2024-08-28T02:08:55.699Z"
   },
   {
    "duration": 19,
    "start_time": "2024-08-28T02:08:55.707Z"
   },
   {
    "duration": 5,
    "start_time": "2024-08-28T02:08:55.727Z"
   },
   {
    "duration": 10,
    "start_time": "2024-08-28T02:08:55.733Z"
   },
   {
    "duration": 2,
    "start_time": "2024-08-28T02:08:55.745Z"
   },
   {
    "duration": 3,
    "start_time": "2024-08-28T02:08:55.751Z"
   },
   {
    "duration": 5,
    "start_time": "2024-08-28T02:08:55.755Z"
   },
   {
    "duration": 9,
    "start_time": "2024-08-28T02:08:55.763Z"
   },
   {
    "duration": 3,
    "start_time": "2024-08-28T02:08:55.773Z"
   },
   {
    "duration": 47,
    "start_time": "2024-08-28T02:08:55.778Z"
   },
   {
    "duration": 7,
    "start_time": "2024-08-28T02:08:55.826Z"
   },
   {
    "duration": 6,
    "start_time": "2024-08-28T02:08:55.834Z"
   },
   {
    "duration": 179,
    "start_time": "2024-08-28T02:08:55.842Z"
   },
   {
    "duration": 83,
    "start_time": "2024-08-28T02:08:56.023Z"
   },
   {
    "duration": 18,
    "start_time": "2024-08-28T02:08:56.107Z"
   },
   {
    "duration": 5,
    "start_time": "2024-08-28T02:08:56.126Z"
   },
   {
    "duration": 164,
    "start_time": "2024-08-28T02:08:56.133Z"
   },
   {
    "duration": 144,
    "start_time": "2024-08-28T02:08:56.299Z"
   },
   {
    "duration": 6,
    "start_time": "2024-08-28T02:08:56.445Z"
   },
   {
    "duration": 235,
    "start_time": "2024-08-28T02:08:56.452Z"
   },
   {
    "duration": 4,
    "start_time": "2024-08-28T02:08:56.689Z"
   },
   {
    "duration": 149,
    "start_time": "2024-08-28T02:08:56.695Z"
   },
   {
    "duration": 887,
    "start_time": "2024-08-28T02:33:27.070Z"
   },
   {
    "duration": 37,
    "start_time": "2024-08-28T02:34:14.188Z"
   },
   {
    "duration": 37,
    "start_time": "2024-08-28T02:34:30.334Z"
   },
   {
    "duration": 13,
    "start_time": "2024-08-28T02:34:52.463Z"
   },
   {
    "duration": 4,
    "start_time": "2024-08-28T02:35:03.956Z"
   },
   {
    "duration": 126,
    "start_time": "2024-08-28T02:35:58.167Z"
   },
   {
    "duration": 115,
    "start_time": "2024-08-28T02:36:09.649Z"
   },
   {
    "duration": 95,
    "start_time": "2024-08-28T02:38:43.039Z"
   },
   {
    "duration": 95,
    "start_time": "2024-08-28T02:41:55.573Z"
   },
   {
    "duration": 12,
    "start_time": "2024-08-28T02:51:59.371Z"
   },
   {
    "duration": 4,
    "start_time": "2024-08-28T02:52:09.511Z"
   },
   {
    "duration": 104,
    "start_time": "2024-08-28T02:53:58.743Z"
   },
   {
    "duration": 166,
    "start_time": "2024-08-28T02:54:18.945Z"
   },
   {
    "duration": 94,
    "start_time": "2024-08-28T02:54:29.805Z"
   },
   {
    "duration": 4,
    "start_time": "2024-08-28T02:55:26.555Z"
   },
   {
    "duration": 13,
    "start_time": "2024-08-28T02:55:57.438Z"
   },
   {
    "duration": 4,
    "start_time": "2024-08-28T02:56:23.705Z"
   },
   {
    "duration": 4,
    "start_time": "2024-08-28T02:56:52.638Z"
   },
   {
    "duration": 3,
    "start_time": "2024-08-28T02:57:00.753Z"
   },
   {
    "duration": 3,
    "start_time": "2024-08-28T02:57:15.512Z"
   },
   {
    "duration": 4,
    "start_time": "2024-08-28T02:57:22.985Z"
   },
   {
    "duration": 4,
    "start_time": "2024-08-28T02:57:43.476Z"
   },
   {
    "duration": 126,
    "start_time": "2024-08-28T02:57:53.677Z"
   },
   {
    "duration": 14,
    "start_time": "2024-08-28T03:06:59.284Z"
   },
   {
    "duration": 100,
    "start_time": "2024-08-28T03:07:01.486Z"
   },
   {
    "duration": 615,
    "start_time": "2024-08-28T03:07:45.980Z"
   },
   {
    "duration": 91,
    "start_time": "2024-08-28T03:09:03.607Z"
   },
   {
    "duration": 213,
    "start_time": "2024-08-28T03:09:22.383Z"
   },
   {
    "duration": 94,
    "start_time": "2024-08-28T03:09:42.584Z"
   },
   {
    "duration": 12,
    "start_time": "2024-08-28T03:09:55.694Z"
   },
   {
    "duration": 107,
    "start_time": "2024-08-28T03:10:08.905Z"
   },
   {
    "duration": 92,
    "start_time": "2024-08-28T03:11:28.774Z"
   },
   {
    "duration": 13,
    "start_time": "2024-08-28T03:13:06.155Z"
   },
   {
    "duration": 4,
    "start_time": "2024-08-28T03:13:11.338Z"
   },
   {
    "duration": 4,
    "start_time": "2024-08-28T03:14:01.339Z"
   },
   {
    "duration": 4,
    "start_time": "2024-08-28T03:14:29.775Z"
   },
   {
    "duration": 5,
    "start_time": "2024-08-28T03:14:37.705Z"
   },
   {
    "duration": 4,
    "start_time": "2024-08-28T03:15:14.504Z"
   },
   {
    "duration": 5,
    "start_time": "2024-08-28T03:15:28.045Z"
   },
   {
    "duration": 4,
    "start_time": "2024-08-28T03:15:39.289Z"
   },
   {
    "duration": 92,
    "start_time": "2024-08-28T03:17:24.977Z"
   },
   {
    "duration": 158,
    "start_time": "2024-08-28T04:41:37.969Z"
   },
   {
    "duration": 2070,
    "start_time": "2024-08-28T04:46:00.703Z"
   },
   {
    "duration": 24,
    "start_time": "2024-08-28T04:46:02.776Z"
   },
   {
    "duration": 10,
    "start_time": "2024-08-28T04:46:02.802Z"
   },
   {
    "duration": 2,
    "start_time": "2024-08-28T04:46:02.814Z"
   },
   {
    "duration": 4,
    "start_time": "2024-08-28T04:46:02.818Z"
   },
   {
    "duration": 6,
    "start_time": "2024-08-28T04:46:02.824Z"
   },
   {
    "duration": 19,
    "start_time": "2024-08-28T04:46:02.831Z"
   },
   {
    "duration": 5,
    "start_time": "2024-08-28T04:46:02.851Z"
   },
   {
    "duration": 4,
    "start_time": "2024-08-28T04:46:02.859Z"
   },
   {
    "duration": 11,
    "start_time": "2024-08-28T04:46:02.865Z"
   },
   {
    "duration": 1,
    "start_time": "2024-08-28T04:46:02.878Z"
   },
   {
    "duration": 3,
    "start_time": "2024-08-28T04:46:02.881Z"
   },
   {
    "duration": 5,
    "start_time": "2024-08-28T04:46:02.887Z"
   },
   {
    "duration": 8,
    "start_time": "2024-08-28T04:46:02.895Z"
   },
   {
    "duration": 4,
    "start_time": "2024-08-28T04:46:02.904Z"
   },
   {
    "duration": 43,
    "start_time": "2024-08-28T04:46:02.909Z"
   },
   {
    "duration": 6,
    "start_time": "2024-08-28T04:46:02.954Z"
   },
   {
    "duration": 7,
    "start_time": "2024-08-28T04:46:02.961Z"
   },
   {
    "duration": 148,
    "start_time": "2024-08-28T04:46:02.969Z"
   },
   {
    "duration": 91,
    "start_time": "2024-08-28T04:46:03.118Z"
   },
   {
    "duration": 7,
    "start_time": "2024-08-28T04:46:03.210Z"
   },
   {
    "duration": 5,
    "start_time": "2024-08-28T04:46:03.219Z"
   },
   {
    "duration": 175,
    "start_time": "2024-08-28T04:46:03.226Z"
   },
   {
    "duration": 139,
    "start_time": "2024-08-28T04:46:03.403Z"
   },
   {
    "duration": 10,
    "start_time": "2024-08-28T04:46:03.543Z"
   },
   {
    "duration": 261,
    "start_time": "2024-08-28T04:46:03.554Z"
   },
   {
    "duration": 5,
    "start_time": "2024-08-28T04:46:03.817Z"
   },
   {
    "duration": 154,
    "start_time": "2024-08-28T04:46:03.823Z"
   },
   {
    "duration": 117,
    "start_time": "2024-08-28T04:46:03.979Z"
   },
   {
    "duration": 103,
    "start_time": "2024-08-28T04:46:04.098Z"
   },
   {
    "duration": 106,
    "start_time": "2024-08-28T04:46:04.202Z"
   },
   {
    "duration": 4,
    "start_time": "2024-08-28T04:46:04.309Z"
   },
   {
    "duration": 5,
    "start_time": "2024-08-28T04:46:04.314Z"
   },
   {
    "duration": 109,
    "start_time": "2024-08-28T04:46:04.321Z"
   },
   {
    "duration": 116,
    "start_time": "2024-08-28T04:46:04.432Z"
   },
   {
    "duration": 3,
    "start_time": "2024-08-28T04:46:04.550Z"
   },
   {
    "duration": 695,
    "start_time": "2024-08-28T04:46:04.555Z"
   },
   {
    "duration": 4,
    "start_time": "2024-08-28T04:47:04.903Z"
   },
   {
    "duration": 170,
    "start_time": "2024-08-28T04:47:54.453Z"
   },
   {
    "duration": 151,
    "start_time": "2024-08-28T04:48:48.221Z"
   },
   {
    "duration": 148,
    "start_time": "2024-08-28T04:51:36.569Z"
   },
   {
    "duration": 4,
    "start_time": "2024-08-28T04:52:48.673Z"
   },
   {
    "duration": 120,
    "start_time": "2024-08-28T04:53:21.011Z"
   },
   {
    "duration": 90,
    "start_time": "2024-08-28T04:59:00.942Z"
   },
   {
    "duration": 722,
    "start_time": "2024-08-28T05:01:11.726Z"
   },
   {
    "duration": 15,
    "start_time": "2024-08-28T05:01:12.452Z"
   },
   {
    "duration": 11,
    "start_time": "2024-08-28T05:01:12.468Z"
   },
   {
    "duration": 2,
    "start_time": "2024-08-28T05:01:12.480Z"
   },
   {
    "duration": 4,
    "start_time": "2024-08-28T05:01:12.485Z"
   },
   {
    "duration": 5,
    "start_time": "2024-08-28T05:01:12.490Z"
   },
   {
    "duration": 8,
    "start_time": "2024-08-28T05:01:12.496Z"
   },
   {
    "duration": 5,
    "start_time": "2024-08-28T05:01:12.505Z"
   },
   {
    "duration": 36,
    "start_time": "2024-08-28T05:01:12.512Z"
   },
   {
    "duration": 9,
    "start_time": "2024-08-28T05:01:12.550Z"
   },
   {
    "duration": 2,
    "start_time": "2024-08-28T05:01:12.561Z"
   },
   {
    "duration": 5,
    "start_time": "2024-08-28T05:01:12.565Z"
   },
   {
    "duration": 8,
    "start_time": "2024-08-28T05:01:12.572Z"
   },
   {
    "duration": 11,
    "start_time": "2024-08-28T05:01:12.587Z"
   },
   {
    "duration": 6,
    "start_time": "2024-08-28T05:01:12.600Z"
   },
   {
    "duration": 9,
    "start_time": "2024-08-28T05:01:12.608Z"
   },
   {
    "duration": 34,
    "start_time": "2024-08-28T05:01:12.619Z"
   },
   {
    "duration": 6,
    "start_time": "2024-08-28T05:01:12.655Z"
   },
   {
    "duration": 142,
    "start_time": "2024-08-28T05:01:12.663Z"
   },
   {
    "duration": 89,
    "start_time": "2024-08-28T05:01:12.806Z"
   },
   {
    "duration": 6,
    "start_time": "2024-08-28T05:01:12.897Z"
   },
   {
    "duration": 5,
    "start_time": "2024-08-28T05:01:12.904Z"
   },
   {
    "duration": 171,
    "start_time": "2024-08-28T05:01:12.911Z"
   },
   {
    "duration": 139,
    "start_time": "2024-08-28T05:01:13.084Z"
   },
   {
    "duration": 6,
    "start_time": "2024-08-28T05:01:13.225Z"
   },
   {
    "duration": 220,
    "start_time": "2024-08-28T05:01:13.232Z"
   },
   {
    "duration": 5,
    "start_time": "2024-08-28T05:01:13.454Z"
   },
   {
    "duration": 147,
    "start_time": "2024-08-28T05:01:13.460Z"
   },
   {
    "duration": 127,
    "start_time": "2024-08-28T05:01:13.608Z"
   },
   {
    "duration": 155,
    "start_time": "2024-08-28T05:01:13.736Z"
   },
   {
    "duration": 103,
    "start_time": "2024-08-28T05:01:13.892Z"
   },
   {
    "duration": 5,
    "start_time": "2024-08-28T05:01:13.996Z"
   },
   {
    "duration": 4,
    "start_time": "2024-08-28T05:01:14.002Z"
   },
   {
    "duration": 109,
    "start_time": "2024-08-28T05:01:14.008Z"
   },
   {
    "duration": 106,
    "start_time": "2024-08-28T05:01:14.119Z"
   },
   {
    "duration": 3,
    "start_time": "2024-08-28T05:01:14.227Z"
   },
   {
    "duration": 4,
    "start_time": "2024-08-28T05:01:14.232Z"
   },
   {
    "duration": 118,
    "start_time": "2024-08-28T05:01:14.249Z"
   },
   {
    "duration": 16,
    "start_time": "2024-08-28T05:01:14.369Z"
   },
   {
    "duration": 156,
    "start_time": "2024-08-28T19:08:01.512Z"
   },
   {
    "duration": 2507,
    "start_time": "2024-08-28T19:08:12.749Z"
   },
   {
    "duration": 23,
    "start_time": "2024-08-28T19:08:15.259Z"
   },
   {
    "duration": 12,
    "start_time": "2024-08-28T19:08:15.283Z"
   },
   {
    "duration": 2,
    "start_time": "2024-08-28T19:08:15.296Z"
   },
   {
    "duration": 4,
    "start_time": "2024-08-28T19:08:15.301Z"
   },
   {
    "duration": 6,
    "start_time": "2024-08-28T19:08:15.307Z"
   },
   {
    "duration": 7,
    "start_time": "2024-08-28T19:08:15.314Z"
   },
   {
    "duration": 5,
    "start_time": "2024-08-28T19:08:15.323Z"
   },
   {
    "duration": 4,
    "start_time": "2024-08-28T19:08:15.329Z"
   },
   {
    "duration": 10,
    "start_time": "2024-08-28T19:08:15.335Z"
   },
   {
    "duration": 42,
    "start_time": "2024-08-28T19:08:15.346Z"
   },
   {
    "duration": 3,
    "start_time": "2024-08-28T19:08:15.390Z"
   },
   {
    "duration": 5,
    "start_time": "2024-08-28T19:08:15.394Z"
   },
   {
    "duration": 8,
    "start_time": "2024-08-28T19:08:15.403Z"
   },
   {
    "duration": 4,
    "start_time": "2024-08-28T19:08:15.412Z"
   },
   {
    "duration": 6,
    "start_time": "2024-08-28T19:08:15.417Z"
   },
   {
    "duration": 6,
    "start_time": "2024-08-28T19:08:15.425Z"
   },
   {
    "duration": 7,
    "start_time": "2024-08-28T19:08:15.432Z"
   },
   {
    "duration": 170,
    "start_time": "2024-08-28T19:08:15.442Z"
   },
   {
    "duration": 100,
    "start_time": "2024-08-28T19:08:15.614Z"
   },
   {
    "duration": 6,
    "start_time": "2024-08-28T19:08:15.716Z"
   },
   {
    "duration": 6,
    "start_time": "2024-08-28T19:08:15.723Z"
   },
   {
    "duration": 165,
    "start_time": "2024-08-28T19:08:15.731Z"
   },
   {
    "duration": 135,
    "start_time": "2024-08-28T19:08:15.897Z"
   },
   {
    "duration": 6,
    "start_time": "2024-08-28T19:08:16.034Z"
   },
   {
    "duration": 220,
    "start_time": "2024-08-28T19:08:16.041Z"
   },
   {
    "duration": 5,
    "start_time": "2024-08-28T19:08:16.262Z"
   },
   {
    "duration": 151,
    "start_time": "2024-08-28T19:08:16.269Z"
   },
   {
    "duration": 138,
    "start_time": "2024-08-28T19:08:16.422Z"
   },
   {
    "duration": 110,
    "start_time": "2024-08-28T19:08:16.562Z"
   },
   {
    "duration": 112,
    "start_time": "2024-08-28T19:08:16.674Z"
   },
   {
    "duration": 4,
    "start_time": "2024-08-28T19:08:16.788Z"
   },
   {
    "duration": 6,
    "start_time": "2024-08-28T19:08:16.794Z"
   },
   {
    "duration": 109,
    "start_time": "2024-08-28T19:08:16.802Z"
   },
   {
    "duration": 109,
    "start_time": "2024-08-28T19:08:16.914Z"
   },
   {
    "duration": 6,
    "start_time": "2024-08-28T19:08:17.024Z"
   },
   {
    "duration": 4,
    "start_time": "2024-08-28T19:08:17.031Z"
   },
   {
    "duration": 123,
    "start_time": "2024-08-28T19:08:17.037Z"
   },
   {
    "duration": 25,
    "start_time": "2024-08-28T19:08:17.162Z"
   },
   {
    "duration": 4,
    "start_time": "2024-08-28T19:08:17.189Z"
   },
   {
    "duration": 5,
    "start_time": "2024-08-28T19:08:17.196Z"
   },
   {
    "duration": 2466,
    "start_time": "2024-08-29T00:39:50.543Z"
   },
   {
    "duration": 26,
    "start_time": "2024-08-29T00:39:53.011Z"
   },
   {
    "duration": 12,
    "start_time": "2024-08-29T00:39:53.038Z"
   },
   {
    "duration": 2,
    "start_time": "2024-08-29T00:39:53.052Z"
   },
   {
    "duration": 5,
    "start_time": "2024-08-29T00:39:53.056Z"
   },
   {
    "duration": 12,
    "start_time": "2024-08-29T00:39:53.062Z"
   },
   {
    "duration": 8,
    "start_time": "2024-08-29T00:39:53.076Z"
   },
   {
    "duration": 6,
    "start_time": "2024-08-29T00:39:53.085Z"
   },
   {
    "duration": 5,
    "start_time": "2024-08-29T00:39:53.092Z"
   },
   {
    "duration": 10,
    "start_time": "2024-08-29T00:39:53.101Z"
   },
   {
    "duration": 2,
    "start_time": "2024-08-29T00:39:53.113Z"
   },
   {
    "duration": 3,
    "start_time": "2024-08-29T00:39:53.117Z"
   },
   {
    "duration": 49,
    "start_time": "2024-08-29T00:39:53.122Z"
   },
   {
    "duration": 9,
    "start_time": "2024-08-29T00:39:53.172Z"
   },
   {
    "duration": 3,
    "start_time": "2024-08-29T00:39:53.183Z"
   },
   {
    "duration": 7,
    "start_time": "2024-08-29T00:39:53.187Z"
   },
   {
    "duration": 7,
    "start_time": "2024-08-29T00:39:53.196Z"
   },
   {
    "duration": 6,
    "start_time": "2024-08-29T00:39:53.204Z"
   },
   {
    "duration": 160,
    "start_time": "2024-08-29T00:39:53.212Z"
   },
   {
    "duration": 102,
    "start_time": "2024-08-29T00:39:53.374Z"
   },
   {
    "duration": 7,
    "start_time": "2024-08-29T00:39:53.477Z"
   },
   {
    "duration": 5,
    "start_time": "2024-08-29T00:39:53.486Z"
   },
   {
    "duration": 167,
    "start_time": "2024-08-29T00:39:53.493Z"
   },
   {
    "duration": 146,
    "start_time": "2024-08-29T00:39:53.662Z"
   },
   {
    "duration": 6,
    "start_time": "2024-08-29T00:39:53.810Z"
   },
   {
    "duration": 222,
    "start_time": "2024-08-29T00:39:53.817Z"
   },
   {
    "duration": 6,
    "start_time": "2024-08-29T00:39:54.040Z"
   },
   {
    "duration": 158,
    "start_time": "2024-08-29T00:39:54.051Z"
   },
   {
    "duration": 119,
    "start_time": "2024-08-29T00:39:54.211Z"
   },
   {
    "duration": 107,
    "start_time": "2024-08-29T00:39:54.332Z"
   },
   {
    "duration": 163,
    "start_time": "2024-08-29T00:39:54.440Z"
   },
   {
    "duration": 4,
    "start_time": "2024-08-29T00:39:54.604Z"
   },
   {
    "duration": 4,
    "start_time": "2024-08-29T00:39:54.610Z"
   },
   {
    "duration": 119,
    "start_time": "2024-08-29T00:39:54.616Z"
   },
   {
    "duration": 115,
    "start_time": "2024-08-29T00:39:54.739Z"
   },
   {
    "duration": 14,
    "start_time": "2024-08-29T00:39:54.856Z"
   },
   {
    "duration": 4,
    "start_time": "2024-08-29T00:39:54.872Z"
   },
   {
    "duration": 152,
    "start_time": "2024-08-29T00:39:54.877Z"
   },
   {
    "duration": 17,
    "start_time": "2024-08-29T00:39:55.030Z"
   },
   {
    "duration": 4,
    "start_time": "2024-08-29T00:39:55.048Z"
   },
   {
    "duration": 16,
    "start_time": "2024-08-29T00:39:55.055Z"
   },
   {
    "duration": 3,
    "start_time": "2024-08-29T00:39:55.072Z"
   },
   {
    "duration": 229,
    "start_time": "2024-08-29T00:52:14.612Z"
   },
   {
    "duration": 5,
    "start_time": "2024-08-29T00:54:01.847Z"
   },
   {
    "duration": 5,
    "start_time": "2024-08-29T00:54:30.769Z"
   },
   {
    "duration": 4,
    "start_time": "2024-08-29T00:58:07.184Z"
   },
   {
    "duration": 2696,
    "start_time": "2024-08-29T02:41:14.205Z"
   },
   {
    "duration": 21,
    "start_time": "2024-08-29T02:41:16.904Z"
   },
   {
    "duration": 12,
    "start_time": "2024-08-29T02:41:16.927Z"
   },
   {
    "duration": 2,
    "start_time": "2024-08-29T02:41:16.941Z"
   },
   {
    "duration": 4,
    "start_time": "2024-08-29T02:41:16.947Z"
   },
   {
    "duration": 7,
    "start_time": "2024-08-29T02:41:16.953Z"
   },
   {
    "duration": 8,
    "start_time": "2024-08-29T02:41:16.961Z"
   },
   {
    "duration": 5,
    "start_time": "2024-08-29T02:41:16.971Z"
   },
   {
    "duration": 6,
    "start_time": "2024-08-29T02:41:16.978Z"
   },
   {
    "duration": 51,
    "start_time": "2024-08-29T02:41:16.985Z"
   },
   {
    "duration": 3,
    "start_time": "2024-08-29T02:41:17.038Z"
   },
   {
    "duration": 5,
    "start_time": "2024-08-29T02:41:17.043Z"
   },
   {
    "duration": 6,
    "start_time": "2024-08-29T02:41:17.050Z"
   },
   {
    "duration": 11,
    "start_time": "2024-08-29T02:41:17.061Z"
   },
   {
    "duration": 3,
    "start_time": "2024-08-29T02:41:17.074Z"
   },
   {
    "duration": 8,
    "start_time": "2024-08-29T02:41:17.079Z"
   },
   {
    "duration": 43,
    "start_time": "2024-08-29T02:41:17.088Z"
   },
   {
    "duration": 8,
    "start_time": "2024-08-29T02:41:17.132Z"
   },
   {
    "duration": 168,
    "start_time": "2024-08-29T02:41:17.142Z"
   },
   {
    "duration": 97,
    "start_time": "2024-08-29T02:41:17.312Z"
   },
   {
    "duration": 7,
    "start_time": "2024-08-29T02:41:17.424Z"
   },
   {
    "duration": 8,
    "start_time": "2024-08-29T02:41:17.432Z"
   },
   {
    "duration": 229,
    "start_time": "2024-08-29T02:41:17.442Z"
   },
   {
    "duration": 166,
    "start_time": "2024-08-29T02:41:17.673Z"
   },
   {
    "duration": 7,
    "start_time": "2024-08-29T02:41:17.841Z"
   },
   {
    "duration": 261,
    "start_time": "2024-08-29T02:41:17.850Z"
   },
   {
    "duration": 18,
    "start_time": "2024-08-29T02:41:18.115Z"
   },
   {
    "duration": 151,
    "start_time": "2024-08-29T02:41:18.135Z"
   },
   {
    "duration": 139,
    "start_time": "2024-08-29T02:41:18.288Z"
   },
   {
    "duration": 110,
    "start_time": "2024-08-29T02:41:18.429Z"
   },
   {
    "duration": 105,
    "start_time": "2024-08-29T02:41:18.543Z"
   },
   {
    "duration": 4,
    "start_time": "2024-08-29T02:41:18.650Z"
   },
   {
    "duration": 4,
    "start_time": "2024-08-29T02:41:18.656Z"
   },
   {
    "duration": 131,
    "start_time": "2024-08-29T02:41:18.662Z"
   },
   {
    "duration": 176,
    "start_time": "2024-08-29T02:41:18.795Z"
   },
   {
    "duration": 4,
    "start_time": "2024-08-29T02:41:18.973Z"
   },
   {
    "duration": 4,
    "start_time": "2024-08-29T02:41:18.978Z"
   },
   {
    "duration": 152,
    "start_time": "2024-08-29T02:41:18.984Z"
   },
   {
    "duration": 20,
    "start_time": "2024-08-29T02:41:19.138Z"
   },
   {
    "duration": 7,
    "start_time": "2024-08-29T02:41:19.160Z"
   },
   {
    "duration": 10,
    "start_time": "2024-08-29T02:41:19.173Z"
   },
   {
    "duration": 6,
    "start_time": "2024-08-29T02:41:19.186Z"
   },
   {
    "duration": 250,
    "start_time": "2024-08-29T02:41:19.194Z"
   },
   {
    "duration": 0,
    "start_time": "2024-08-29T02:41:19.446Z"
   },
   {
    "duration": 27,
    "start_time": "2024-08-29T02:42:20.124Z"
   },
   {
    "duration": 11,
    "start_time": "2024-08-29T02:43:09.577Z"
   },
   {
    "duration": 18,
    "start_time": "2024-08-29T02:43:22.015Z"
   },
   {
    "duration": 15,
    "start_time": "2024-08-29T02:44:02.568Z"
   },
   {
    "duration": 10,
    "start_time": "2024-08-29T02:44:09.673Z"
   },
   {
    "duration": 14,
    "start_time": "2024-08-29T02:47:08.818Z"
   },
   {
    "duration": 18,
    "start_time": "2024-08-29T02:47:20.547Z"
   },
   {
    "duration": 4,
    "start_time": "2024-08-29T02:48:20.677Z"
   },
   {
    "duration": 41,
    "start_time": "2024-08-29T03:02:49.810Z"
   },
   {
    "duration": 386,
    "start_time": "2024-08-29T03:03:36.781Z"
   },
   {
    "duration": 77,
    "start_time": "2024-08-29T03:06:47.678Z"
   },
   {
    "duration": 17,
    "start_time": "2024-08-29T03:09:33.618Z"
   },
   {
    "duration": 23,
    "start_time": "2024-08-29T03:11:38.736Z"
   },
   {
    "duration": 3,
    "start_time": "2024-08-29T03:11:55.148Z"
   },
   {
    "duration": 5,
    "start_time": "2024-08-29T03:11:57.061Z"
   },
   {
    "duration": 6,
    "start_time": "2024-08-29T03:11:59.015Z"
   },
   {
    "duration": 24,
    "start_time": "2024-08-29T03:14:55.089Z"
   },
   {
    "duration": 205,
    "start_time": "2024-08-29T03:42:19.645Z"
   },
   {
    "duration": 45,
    "start_time": "2024-08-29T03:43:38.954Z"
   },
   {
    "duration": 8,
    "start_time": "2024-08-29T03:44:12.475Z"
   },
   {
    "duration": 4,
    "start_time": "2024-08-29T03:44:49.282Z"
   },
   {
    "duration": 134,
    "start_time": "2024-08-29T03:45:03.039Z"
   },
   {
    "duration": 8,
    "start_time": "2024-08-29T03:45:06.455Z"
   },
   {
    "duration": 697,
    "start_time": "2024-08-29T03:45:20.631Z"
   },
   {
    "duration": 143,
    "start_time": "2024-08-29T04:32:04.821Z"
   },
   {
    "duration": 739,
    "start_time": "2024-08-29T04:32:13.908Z"
   },
   {
    "duration": 14,
    "start_time": "2024-08-29T04:32:14.650Z"
   },
   {
    "duration": 11,
    "start_time": "2024-08-29T04:32:14.666Z"
   },
   {
    "duration": 2,
    "start_time": "2024-08-29T04:32:14.678Z"
   },
   {
    "duration": 5,
    "start_time": "2024-08-29T04:32:14.683Z"
   },
   {
    "duration": 6,
    "start_time": "2024-08-29T04:32:14.689Z"
   },
   {
    "duration": 31,
    "start_time": "2024-08-29T04:32:14.696Z"
   },
   {
    "duration": 5,
    "start_time": "2024-08-29T04:32:14.729Z"
   },
   {
    "duration": 4,
    "start_time": "2024-08-29T04:32:14.735Z"
   },
   {
    "duration": 10,
    "start_time": "2024-08-29T04:32:14.741Z"
   },
   {
    "duration": 2,
    "start_time": "2024-08-29T04:32:14.753Z"
   },
   {
    "duration": 3,
    "start_time": "2024-08-29T04:32:14.757Z"
   },
   {
    "duration": 5,
    "start_time": "2024-08-29T04:32:14.761Z"
   },
   {
    "duration": 8,
    "start_time": "2024-08-29T04:32:14.770Z"
   },
   {
    "duration": 3,
    "start_time": "2024-08-29T04:32:14.780Z"
   },
   {
    "duration": 45,
    "start_time": "2024-08-29T04:32:14.784Z"
   },
   {
    "duration": 6,
    "start_time": "2024-08-29T04:32:14.831Z"
   },
   {
    "duration": 7,
    "start_time": "2024-08-29T04:32:14.839Z"
   },
   {
    "duration": 149,
    "start_time": "2024-08-29T04:32:14.847Z"
   },
   {
    "duration": 97,
    "start_time": "2024-08-29T04:32:14.998Z"
   },
   {
    "duration": 7,
    "start_time": "2024-08-29T04:32:15.097Z"
   },
   {
    "duration": 19,
    "start_time": "2024-08-29T04:32:15.105Z"
   },
   {
    "duration": 156,
    "start_time": "2024-08-29T04:32:15.126Z"
   },
   {
    "duration": 141,
    "start_time": "2024-08-29T04:32:15.284Z"
   },
   {
    "duration": 6,
    "start_time": "2024-08-29T04:32:15.427Z"
   },
   {
    "duration": 233,
    "start_time": "2024-08-29T04:32:15.435Z"
   },
   {
    "duration": 4,
    "start_time": "2024-08-29T04:32:15.670Z"
   },
   {
    "duration": 148,
    "start_time": "2024-08-29T04:32:15.676Z"
   },
   {
    "duration": 862,
    "start_time": "2024-08-29T04:32:15.825Z"
   },
   {
    "duration": 0,
    "start_time": "2024-08-29T04:32:16.689Z"
   },
   {
    "duration": 0,
    "start_time": "2024-08-29T04:32:16.690Z"
   },
   {
    "duration": 0,
    "start_time": "2024-08-29T04:32:16.692Z"
   },
   {
    "duration": 0,
    "start_time": "2024-08-29T04:32:16.693Z"
   },
   {
    "duration": 0,
    "start_time": "2024-08-29T04:32:16.694Z"
   },
   {
    "duration": 0,
    "start_time": "2024-08-29T04:32:16.695Z"
   },
   {
    "duration": 0,
    "start_time": "2024-08-29T04:32:16.697Z"
   },
   {
    "duration": 0,
    "start_time": "2024-08-29T04:32:16.698Z"
   },
   {
    "duration": 0,
    "start_time": "2024-08-29T04:32:16.699Z"
   },
   {
    "duration": 0,
    "start_time": "2024-08-29T04:32:16.701Z"
   },
   {
    "duration": 0,
    "start_time": "2024-08-29T04:32:16.723Z"
   },
   {
    "duration": 0,
    "start_time": "2024-08-29T04:32:16.724Z"
   },
   {
    "duration": 0,
    "start_time": "2024-08-29T04:32:16.725Z"
   },
   {
    "duration": 0,
    "start_time": "2024-08-29T04:32:16.726Z"
   },
   {
    "duration": 0,
    "start_time": "2024-08-29T04:32:16.728Z"
   },
   {
    "duration": 0,
    "start_time": "2024-08-29T04:32:16.729Z"
   },
   {
    "duration": 0,
    "start_time": "2024-08-29T04:32:16.731Z"
   },
   {
    "duration": 0,
    "start_time": "2024-08-29T04:32:16.732Z"
   },
   {
    "duration": 0,
    "start_time": "2024-08-29T04:32:16.734Z"
   },
   {
    "duration": 0,
    "start_time": "2024-08-29T04:32:16.735Z"
   },
   {
    "duration": 228,
    "start_time": "2024-08-29T04:38:13.419Z"
   },
   {
    "duration": 258,
    "start_time": "2024-08-29T04:39:04.835Z"
   },
   {
    "duration": 210,
    "start_time": "2024-08-29T04:40:42.382Z"
   },
   {
    "duration": 205,
    "start_time": "2024-08-29T04:40:48.695Z"
   },
   {
    "duration": 211,
    "start_time": "2024-08-29T04:42:37.401Z"
   },
   {
    "duration": 146,
    "start_time": "2024-08-29T04:49:34.472Z"
   },
   {
    "duration": 136,
    "start_time": "2024-08-29T04:50:05.550Z"
   },
   {
    "duration": 310,
    "start_time": "2024-08-29T04:50:59.073Z"
   },
   {
    "duration": 147,
    "start_time": "2024-08-29T04:51:51.210Z"
   },
   {
    "duration": 258,
    "start_time": "2024-08-29T04:52:09.335Z"
   },
   {
    "duration": 14,
    "start_time": "2024-08-29T05:33:19.203Z"
   },
   {
    "duration": 113,
    "start_time": "2024-08-29T05:48:34.859Z"
   },
   {
    "duration": 28,
    "start_time": "2024-08-29T05:48:54.450Z"
   },
   {
    "duration": 14,
    "start_time": "2024-08-29T05:49:03.494Z"
   },
   {
    "duration": 13,
    "start_time": "2024-08-29T05:49:32.648Z"
   },
   {
    "duration": 7,
    "start_time": "2024-08-29T05:50:22.580Z"
   },
   {
    "duration": 16,
    "start_time": "2024-08-29T05:50:28.469Z"
   },
   {
    "duration": 14,
    "start_time": "2024-08-29T05:51:08.212Z"
   },
   {
    "duration": 13,
    "start_time": "2024-08-29T05:51:14.091Z"
   },
   {
    "duration": 12,
    "start_time": "2024-08-29T05:51:28.830Z"
   },
   {
    "duration": 15,
    "start_time": "2024-08-29T05:51:34.920Z"
   },
   {
    "duration": 11,
    "start_time": "2024-08-29T05:51:53.635Z"
   },
   {
    "duration": 3,
    "start_time": "2024-08-29T05:52:06.982Z"
   },
   {
    "duration": 14,
    "start_time": "2024-08-29T05:52:35.694Z"
   },
   {
    "duration": 143,
    "start_time": "2024-08-29T05:53:22.895Z"
   },
   {
    "duration": 3,
    "start_time": "2024-08-29T05:53:38.820Z"
   },
   {
    "duration": 3,
    "start_time": "2024-08-29T05:54:30.437Z"
   },
   {
    "duration": 3,
    "start_time": "2024-08-29T05:54:34.346Z"
   },
   {
    "duration": 4,
    "start_time": "2024-08-29T05:54:48.889Z"
   },
   {
    "duration": 4,
    "start_time": "2024-08-29T05:54:52.891Z"
   },
   {
    "duration": 13,
    "start_time": "2024-08-29T05:54:55.561Z"
   },
   {
    "duration": 2,
    "start_time": "2024-08-29T05:55:09.644Z"
   },
   {
    "duration": 3,
    "start_time": "2024-08-29T05:55:37.977Z"
   },
   {
    "duration": 3,
    "start_time": "2024-08-29T05:56:01.977Z"
   },
   {
    "duration": 697,
    "start_time": "2024-08-29T06:19:54.312Z"
   },
   {
    "duration": 21,
    "start_time": "2024-08-29T06:19:55.012Z"
   },
   {
    "duration": 10,
    "start_time": "2024-08-29T06:19:55.034Z"
   },
   {
    "duration": 2,
    "start_time": "2024-08-29T06:19:55.046Z"
   },
   {
    "duration": 3,
    "start_time": "2024-08-29T06:19:55.051Z"
   },
   {
    "duration": 6,
    "start_time": "2024-08-29T06:19:55.056Z"
   },
   {
    "duration": 6,
    "start_time": "2024-08-29T06:19:55.064Z"
   },
   {
    "duration": 5,
    "start_time": "2024-08-29T06:19:55.072Z"
   },
   {
    "duration": 4,
    "start_time": "2024-08-29T06:19:55.079Z"
   },
   {
    "duration": 46,
    "start_time": "2024-08-29T06:19:55.085Z"
   },
   {
    "duration": 2,
    "start_time": "2024-08-29T06:19:55.133Z"
   },
   {
    "duration": 4,
    "start_time": "2024-08-29T06:19:55.136Z"
   },
   {
    "duration": 5,
    "start_time": "2024-08-29T06:19:55.141Z"
   },
   {
    "duration": 8,
    "start_time": "2024-08-29T06:19:55.150Z"
   },
   {
    "duration": 2,
    "start_time": "2024-08-29T06:19:55.160Z"
   },
   {
    "duration": 7,
    "start_time": "2024-08-29T06:19:55.164Z"
   },
   {
    "duration": 6,
    "start_time": "2024-08-29T06:19:55.173Z"
   },
   {
    "duration": 7,
    "start_time": "2024-08-29T06:19:55.223Z"
   },
   {
    "duration": 132,
    "start_time": "2024-08-29T06:19:55.232Z"
   },
   {
    "duration": 97,
    "start_time": "2024-08-29T06:19:55.366Z"
   },
   {
    "duration": 7,
    "start_time": "2024-08-29T06:19:55.464Z"
   },
   {
    "duration": 4,
    "start_time": "2024-08-29T06:19:55.474Z"
   },
   {
    "duration": 173,
    "start_time": "2024-08-29T06:19:55.480Z"
   },
   {
    "duration": 142,
    "start_time": "2024-08-29T06:19:55.655Z"
   },
   {
    "duration": 7,
    "start_time": "2024-08-29T06:19:55.799Z"
   },
   {
    "duration": 231,
    "start_time": "2024-08-29T06:19:55.807Z"
   },
   {
    "duration": 5,
    "start_time": "2024-08-29T06:19:56.040Z"
   },
   {
    "duration": 151,
    "start_time": "2024-08-29T06:19:56.046Z"
   },
   {
    "duration": 289,
    "start_time": "2024-08-29T06:19:56.199Z"
   },
   {
    "duration": 115,
    "start_time": "2024-08-29T06:19:56.490Z"
   },
   {
    "duration": 99,
    "start_time": "2024-08-29T06:19:56.607Z"
   },
   {
    "duration": 101,
    "start_time": "2024-08-29T06:19:56.708Z"
   },
   {
    "duration": 16,
    "start_time": "2024-08-29T06:19:56.810Z"
   },
   {
    "duration": 4,
    "start_time": "2024-08-29T06:19:56.827Z"
   },
   {
    "duration": 109,
    "start_time": "2024-08-29T06:19:56.832Z"
   },
   {
    "duration": 110,
    "start_time": "2024-08-29T06:19:56.943Z"
   },
   {
    "duration": 4,
    "start_time": "2024-08-29T06:19:57.055Z"
   },
   {
    "duration": 4,
    "start_time": "2024-08-29T06:19:57.061Z"
   },
   {
    "duration": 131,
    "start_time": "2024-08-29T06:19:57.066Z"
   },
   {
    "duration": 17,
    "start_time": "2024-08-29T06:19:57.198Z"
   },
   {
    "duration": 4,
    "start_time": "2024-08-29T06:19:57.227Z"
   },
   {
    "duration": 5,
    "start_time": "2024-08-29T06:19:57.232Z"
   },
   {
    "duration": 5,
    "start_time": "2024-08-29T06:19:57.238Z"
   },
   {
    "duration": 7,
    "start_time": "2024-08-29T06:19:57.244Z"
   },
   {
    "duration": 3,
    "start_time": "2024-08-29T06:19:57.253Z"
   },
   {
    "duration": 15,
    "start_time": "2024-08-29T06:19:57.258Z"
   },
   {
    "duration": 3,
    "start_time": "2024-08-29T06:19:57.275Z"
   },
   {
    "duration": 4,
    "start_time": "2024-08-29T06:19:57.280Z"
   },
   {
    "duration": 44,
    "start_time": "2024-08-29T06:19:57.285Z"
   }
  ],
  "kernelspec": {
   "display_name": "Python 3 (ipykernel)",
   "language": "python",
   "name": "python3"
  },
  "language_info": {
   "codemirror_mode": {
    "name": "ipython",
    "version": 3
   },
   "file_extension": ".py",
   "mimetype": "text/x-python",
   "name": "python",
   "nbconvert_exporter": "python",
   "pygments_lexer": "ipython3",
   "version": "3.9.19"
  },
  "toc": {
   "base_numbering": 1,
   "nav_menu": {
    "height": "271px",
    "width": "278px"
   },
   "number_sections": true,
   "sideBar": true,
   "skip_h1_title": true,
   "title_cell": "Table of Contents",
   "title_sidebar": "Contents",
   "toc_cell": false,
   "toc_position": {
    "height": "calc(100% - 180px)",
    "left": "10px",
    "top": "150px",
    "width": "251.4px"
   },
   "toc_section_display": true,
   "toc_window_display": true
  }
 },
 "nbformat": 4,
 "nbformat_minor": 2
}
